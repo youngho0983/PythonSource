{
 "cells": [
  {
   "cell_type": "markdown",
   "metadata": {},
   "source": [
    "### 문자 처리\n",
    "-쌍따옴표, 홑따옴표로 표현\n",
    "-쌍따옴표 3개, 홑따옴표 3개\n",
    "-문자와 문자열의 구별은 없음\n",
    "-인덱싱 슬라이싱 개념 중요함"
   ]
  },
  {
   "cell_type": "code",
   "execution_count": 2,
   "metadata": {},
   "outputs": [
    {
     "name": "stdout",
     "output_type": "stream",
     "text": [
      "Life is too short, You need python\n"
     ]
    }
   ],
   "source": [
    "a=\"Life is too short, You need python\"\n",
    "print (a)"
   ]
  },
  {
   "cell_type": "code",
   "execution_count": 3,
   "metadata": {},
   "outputs": [
    {
     "name": "stdout",
     "output_type": "stream",
     "text": [
      "Life is too short, You need Python\n"
     ]
    }
   ],
   "source": [
    "a='Life is too short, You need Python'\n",
    "print(a)"
   ]
  },
  {
   "cell_type": "code",
   "execution_count": 4,
   "metadata": {},
   "outputs": [
    {
     "name": "stdout",
     "output_type": "stream",
     "text": [
      "Life is too short, You need Python\n"
     ]
    }
   ],
   "source": [
    "a=\"\"\"Life is too short, You need Python\"\"\"\n",
    "print(a)"
   ]
  },
  {
   "cell_type": "code",
   "execution_count": 5,
   "metadata": {},
   "outputs": [
    {
     "name": "stdout",
     "output_type": "stream",
     "text": [
      "Life is too short, You need Python\n"
     ]
    }
   ],
   "source": [
    "a='''Life is too short, You need Python'''\n",
    "print(a)"
   ]
  },
  {
   "cell_type": "markdown",
   "metadata": {},
   "source": [
    "-문자열 응용 +(결합)  *(복제)"
   ]
  },
  {
   "cell_type": "code",
   "execution_count": 7,
   "metadata": {},
   "outputs": [
    {
     "name": "stdout",
     "output_type": "stream",
     "text": [
      "Pythonis fun\n"
     ]
    }
   ],
   "source": [
    "print(\"Python\"+\"is fun\")"
   ]
  },
  {
   "cell_type": "code",
   "execution_count": 8,
   "metadata": {},
   "outputs": [
    {
     "name": "stdout",
     "output_type": "stream",
     "text": [
      "PythonPythonPython\n"
     ]
    }
   ],
   "source": [
    "print(\"Python\"*3)"
   ]
  },
  {
   "cell_type": "code",
   "execution_count": 9,
   "metadata": {},
   "outputs": [
    {
     "name": "stdout",
     "output_type": "stream",
     "text": [
      "**************************************************\n",
      "My Program\n",
      "**************************************************\n"
     ]
    }
   ],
   "source": [
    "print(\"*\"*50)\n",
    "print(\"My Program\")\n",
    "print(\"*\"*50)"
   ]
  },
  {
   "cell_type": "code",
   "execution_count": 10,
   "metadata": {},
   "outputs": [],
   "source": [
    "#문자열 인덱싱 과 슬라이싱"
   ]
  },
  {
   "cell_type": "code",
   "execution_count": 15,
   "metadata": {},
   "outputs": [
    {
     "name": "stdout",
     "output_type": "stream",
     "text": [
      "e\n",
      "e\n"
     ]
    }
   ],
   "source": [
    "str1 =\"Life is too short\"\n",
    "print(str1[3]) #인덱싱 : 0부터 시작\n",
    "print(str1[-14])"
   ]
  },
  {
   "cell_type": "code",
   "execution_count": 16,
   "metadata": {},
   "outputs": [
    {
     "name": "stdout",
     "output_type": "stream",
     "text": [
      "Life\n"
     ]
    }
   ],
   "source": [
    "print(str1[0:4])"
   ]
  },
  {
   "cell_type": "code",
   "execution_count": 19,
   "metadata": {},
   "outputs": [
    {
     "name": "stdout",
     "output_type": "stream",
     "text": [
      "is \n"
     ]
    }
   ],
   "source": [
    "print(str1[5:8])"
   ]
  },
  {
   "cell_type": "code",
   "execution_count": 23,
   "metadata": {},
   "outputs": [
    {
     "name": "stdout",
     "output_type": "stream",
     "text": [
      "is too short\n"
     ]
    }
   ],
   "source": [
    "print(str1[5:])"
   ]
  },
  {
   "cell_type": "code",
   "execution_count": 24,
   "metadata": {},
   "outputs": [
    {
     "name": "stdout",
     "output_type": "stream",
     "text": [
      "Life \n"
     ]
    }
   ],
   "source": [
    "print(str1[:5])"
   ]
  },
  {
   "cell_type": "code",
   "execution_count": 25,
   "metadata": {},
   "outputs": [
    {
     "name": "stdout",
     "output_type": "stream",
     "text": [
      "17\n"
     ]
    }
   ],
   "source": [
    "print(len(str1))"
   ]
  },
  {
   "cell_type": "code",
   "execution_count": 47,
   "metadata": {},
   "outputs": [
    {
     "name": "stdout",
     "output_type": "stream",
     "text": [
      "20210216\n",
      "sunny\n",
      "2021-02-16\n",
      "2021 02 16\n",
      "2021-02-16\n"
     ]
    }
   ],
   "source": [
    "str2=\"20210216sunny\"\n",
    "# 날짜와 날씨 나눠서 출력\n",
    "str3=str2[0:8]\n",
    "str4=str2[8:]\n",
    "print(str3)\n",
    "print(str4)\n",
    "print(str3[0:4],end=\"-\")\n",
    "print(str3[4:6],end=\"-\")\n",
    "print(str3[6:8],end=\"\")\n",
    "print()\n",
    "print(str3[0:4],str3[4:6],str3[6:8])\n",
    "print(str3[0:4],str3[4:6],str3[6:8],sep=\"-\")"
   ]
  },
  {
   "cell_type": "code",
   "execution_count": 43,
   "metadata": {},
   "outputs": [
    {
     "name": "stdout",
     "output_type": "stream",
     "text": [
      "여성\n"
     ]
    }
   ],
   "source": [
    "jumin=\"901205-4264567\"\n",
    "#주민등록번호에서 일곱번쨰 자리 숫자 이용해 남 여 판별\n",
    "\n",
    "if(jumin[7]==\"2\" or jumin[7]==\"4\"):\n",
    "    print(\"여성\")\n",
    "else:\n",
    "    print(\"남성\")"
   ]
  },
  {
   "cell_type": "code",
   "execution_count": 56,
   "metadata": {},
   "outputs": [
    {
     "name": "stdout",
     "output_type": "stream",
     "text": [
      "대$한$민$국$"
     ]
    }
   ],
   "source": [
    "str3=\"대한민국\"\n",
    "for i in str3:\n",
    "   print(i,end=\"$\")"
   ]
  },
  {
   "cell_type": "code",
   "execution_count": 72,
   "metadata": {},
   "outputs": [
    {
     "name": "stdout",
     "output_type": "stream",
     "text": [
      "숫자 입력4352\n",
      "****\n",
      "***\n",
      "*****\n",
      "**\n"
     ]
    }
   ],
   "source": [
    "temp=input(\"숫자 입력\")\n",
    "for i in temp:\n",
    "    temp2=int(i)\n",
    "    for j in range(1,temp2+1):\n",
    "        print(\"*\",end=\"\")\n",
    "    print()"
   ]
  },
  {
   "cell_type": "code",
   "execution_count": 73,
   "metadata": {},
   "outputs": [
    {
     "name": "stdout",
     "output_type": "stream",
     "text": [
      "숫자 입력32\n",
      "***\n",
      "**\n"
     ]
    }
   ],
   "source": [
    "str4=input(\"숫자 입력\")\n",
    "\n",
    "for i in range(len(str4)):\n",
    "    for j in range(int(str4[i])):\n",
    "        print(\"*\",end=\"\")\n",
    "    print()"
   ]
  },
  {
   "cell_type": "code",
   "execution_count": 74,
   "metadata": {},
   "outputs": [],
   "source": [
    "# 문자열 관련 함수"
   ]
  },
  {
   "cell_type": "code",
   "execution_count": 81,
   "metadata": {},
   "outputs": [
    {
     "name": "stdout",
     "output_type": "stream",
     "text": [
      "a 문자열에 포함된 b 문자열의 개수:  2\n"
     ]
    }
   ],
   "source": [
    "#count:문자열에 포함된 특정 문자열 개수\n",
    "\n",
    "a=\"hobby\"\n",
    "print(\"a 문자열에 포함된 b 문자열의 개수: \" , a.count(\"b\"))"
   ]
  },
  {
   "cell_type": "code",
   "execution_count": 85,
   "metadata": {},
   "outputs": [
    {
     "name": "stdout",
     "output_type": "stream",
     "text": [
      "b가 시작되는 첫번째 위치 : 10\n",
      "b가 시작되는 첫번째 위치 : -1\n",
      "k가 시작되는 첫번째 위치 : -1\n"
     ]
    }
   ],
   "source": [
    "# find:문자를 찾아서 시작 위치를 돌려줌\n",
    "\n",
    "a=\"Python is best choice\"\n",
    "print(\"b가 시작되는 첫번째 위치 :\",a.find(\"b\") )\n",
    "print(\"b가 시작되는 첫번째 위치 :\",a.find(\"b\",11) )\n",
    "print(\"k가 시작되는 첫번째 위치 :\",a.find(\"k\") )\n"
   ]
  },
  {
   "cell_type": "code",
   "execution_count": 86,
   "metadata": {},
   "outputs": [
    {
     "name": "stdout",
     "output_type": "stream",
     "text": [
      "b 가 시작되는 마지막 위치 10\n"
     ]
    }
   ],
   "source": [
    "#rfind() : 오른쪽부터 찾아라\n",
    "print('b 가 시작되는 마지막 위치',a.rfind('b'))"
   ]
  },
  {
   "cell_type": "code",
   "execution_count": 89,
   "metadata": {},
   "outputs": [
    {
     "name": "stdout",
     "output_type": "stream",
     "text": [
      "b가 시작되는 첫번째 위치 10\n"
     ]
    }
   ],
   "source": [
    "#index() 없으면 에러를 냄\n",
    "a=\"Python is best choice\"\n",
    "print(\"b가 시작되는 첫번째 위치\",a.index(\"b\"))\n",
    "#print(\"k가 시작되는 첫번째 위치\",a.index(\"k\"))"
   ]
  },
  {
   "cell_type": "code",
   "execution_count": 96,
   "metadata": {},
   "outputs": [
    {
     "name": "stdout",
     "output_type": "stream",
     "text": [
      "False\n",
      "True\n",
      "False\n",
      "True\n"
     ]
    }
   ],
   "source": [
    "#startwith():\n",
    "\n",
    "a=\"Python is easy programing\"\n",
    "print(a.startswith(\"p\"))\n",
    "print(a.startswith(\"P\"))\n",
    "print(a.endswith(\"G\"))\n",
    "print(a.endswith(\"g\"))"
   ]
  },
  {
   "cell_type": "code",
   "execution_count": 98,
   "metadata": {},
   "outputs": [
    {
     "name": "stdout",
     "output_type": "stream",
     "text": [
      "a.b.c.d\n"
     ]
    }
   ],
   "source": [
    "# join() :문자열 사이에 연결 문자 지정\n",
    "b=\".\"\n",
    "print(b.join(\"abcd\"))"
   ]
  },
  {
   "cell_type": "code",
   "execution_count": 106,
   "metadata": {},
   "outputs": [
    {
     "name": "stdout",
     "output_type": "stream",
     "text": [
      "ABCD\n",
      "abcd\n",
      " a b C D \n",
      " A B c d \n"
     ]
    }
   ],
   "source": [
    "a=\"abcd\"\n",
    "print(a.upper())\n",
    "b=\"ABCD\"\n",
    "print(b.lower())\n",
    "c=\" a b C D \"\n",
    "print(c)\n",
    "print(c.swapcase())\n"
   ]
  },
  {
   "cell_type": "code",
   "execution_count": 107,
   "metadata": {},
   "outputs": [
    {
     "name": "stdout",
     "output_type": "stream",
     "text": [
      "Pyghon Is Easy\n"
     ]
    }
   ],
   "source": [
    "#title()\n",
    "\n",
    "a=\"pyghon is easy\"\n",
    "print (a.title())"
   ]
  },
  {
   "cell_type": "code",
   "execution_count": 110,
   "metadata": {},
   "outputs": [
    {
     "name": "stdout",
     "output_type": "stream",
     "text": [
      "  a  b  c  d   \n",
      "a  b  c  d\n",
      "a  b  c  d   \n"
     ]
    }
   ],
   "source": [
    "# 공백제거 :strip(), lstrip(),rstrip()\n",
    "a =\"  a  b  c  d   \" \n",
    "print(a)\n",
    "print(a.strip())\n",
    "print(a.lstrip())"
   ]
  },
  {
   "cell_type": "code",
   "execution_count": 111,
   "metadata": {},
   "outputs": [
    {
     "name": "stdout",
     "output_type": "stream",
     "text": [
      "hi     hello\n",
      "hi hello\n"
     ]
    }
   ],
   "source": [
    "a=\"hi    \"\n",
    "print(a,\"hello\")\n",
    "print(a.rstrip(),\"hello\")"
   ]
  },
  {
   "cell_type": "code",
   "execution_count": 112,
   "metadata": {},
   "outputs": [
    {
     "name": "stdout",
     "output_type": "stream",
     "text": [
      "ㅁㅁㅁㅁ*\n"
     ]
    }
   ],
   "source": [
    "a=\"*********\"\n",
    "print(a.replace(\"**\",\"ㅁ\"))"
   ]
  },
  {
   "cell_type": "code",
   "execution_count": 113,
   "metadata": {},
   "outputs": [
    {
     "name": "stdout",
     "output_type": "stream",
     "text": [
      "['a', 'b', 'c', 'd']\n"
     ]
    }
   ],
   "source": [
    "# split():문자열 나누기\n",
    "\n",
    "a=\"a:b:c:d\"\n",
    "print(a.split(\":\"))"
   ]
  },
  {
   "cell_type": "code",
   "execution_count": 119,
   "metadata": {},
   "outputs": [
    {
     "name": "stdout",
     "output_type": "stream",
     "text": [
      "True\n"
     ]
    }
   ],
   "source": [
    "# 문자열 구성 파악 함수 : isdigit(),isalpha(),islnum(),islower(),isupper()\n",
    "print(\"1234\".isalnum())"
   ]
  },
  {
   "cell_type": "code",
   "execution_count": 120,
   "metadata": {},
   "outputs": [
    {
     "name": "stdout",
     "output_type": "stream",
     "text": [
      "kENNrY\n"
     ]
    }
   ],
   "source": [
    "name=\"KennRy\"\n",
    "print(name.swapcase())"
   ]
  },
  {
   "cell_type": "code",
   "execution_count": 129,
   "metadata": {},
   "outputs": [
    {
     "name": "stdout",
     "output_type": "stream",
     "text": [
      "2021-02-16\n",
      "날짜 입력2021/02/15\n",
      "['2021', '02', '15']\n",
      "2031 년 02 월 15 일\n"
     ]
    }
   ],
   "source": [
    "import datetime\n",
    "date=datetime.date.today()\n",
    "print(date)\n",
    "#년 /월 / 일 형태로 입력 받아서 10년 후의 날짜 출력하기\n",
    "daytemp=input(\"날짜 입력\")\n",
    "temp= daytemp.split(\"/\")\n",
    "print(temp)\n",
    "year=temp[0]\n",
    "month=temp[1]\n",
    "day=temp[2]\n",
    "year=str(int(year)+10)\n",
    "print(year,\"년\",month,\"월\",day,\"일\" )"
   ]
  },
  {
   "cell_type": "code",
   "execution_count": 134,
   "metadata": {},
   "outputs": [
    {
     "name": "stdout",
     "output_type": "stream",
     "text": [
      "사이트 주소http://naver.com\n",
      "naver.com\n",
      "naver\n",
      "nav51!\n"
     ]
    }
   ],
   "source": [
    "#사이트 별로 비밀번호 만들어 주기\n",
    "#예) http://naver.com\n",
    "#규칙 1: http:// 부분은 제외한다\n",
    "#규칙 2: 처음 만나는 점(.) 이후 부분은 제외\n",
    "#규칙 3 : 남은 글자 중 처음 세자리+ 글자 갯수 +  글자 내 \"e\" 의 갯수+! 로 구성\n",
    "# 결과 => nav51!\n",
    "strtemp=input(\"사이트 주소\")\n",
    "endo=strtemp.rfind(\"/\")\n",
    "result=strtemp[endo+1:]\n",
    "print(result)\n",
    "endo=result.find(\".\")\n",
    "result2=result[0:endo]\n",
    "print(result2)\n",
    "result3=result[:3]+str(len(result2))+str(result2.count(\"e\"))+\"!\"\n",
    "print(result3)"
   ]
  },
  {
   "cell_type": "code",
   "execution_count": null,
   "metadata": {},
   "outputs": [],
   "source": []
  }
 ],
 "metadata": {
  "kernelspec": {
   "display_name": "Python 3",
   "language": "python",
   "name": "python3"
  },
  "language_info": {
   "codemirror_mode": {
    "name": "ipython",
    "version": 3
   },
   "file_extension": ".py",
   "mimetype": "text/x-python",
   "name": "python",
   "nbconvert_exporter": "python",
   "pygments_lexer": "ipython3",
   "version": "3.8.5"
  }
 },
 "nbformat": 4,
 "nbformat_minor": 4
}
