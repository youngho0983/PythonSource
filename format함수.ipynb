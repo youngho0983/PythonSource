{
 "cells": [
  {
   "cell_type": "raw",
   "metadata": {},
   "source": [
    "###format함수 \n",
    "-%d : 정수 \n",
    "-%f : 실수 \n",
    "-%s : 문자열 \n",
    "-%c : 문자 "
   ]
  },
  {
   "cell_type": "code",
   "execution_count": 4,
   "metadata": {},
   "outputs": [
    {
     "name": "stdout",
     "output_type": "stream",
     "text": [
      "100\n",
      "  100\n",
      "00100\n"
     ]
    }
   ],
   "source": [
    "print(\"%d\" %100)\n",
    "print(\"%5d\" %100)\n",
    "print(\"%05d\" %100)"
   ]
  },
  {
   "cell_type": "code",
   "execution_count": 6,
   "metadata": {},
   "outputs": [
    {
     "name": "stdout",
     "output_type": "stream",
     "text": [
      "hi\n",
      "   hi\n",
      "   hi\n"
     ]
    }
   ],
   "source": [
    "print(\"%s\" %\"hi\")\n",
    "print(\"%5s\" %\"hi\")\n",
    "print(\"%05s\" %'hi')"
   ]
  },
  {
   "cell_type": "code",
   "execution_count": 9,
   "metadata": {},
   "outputs": [
    {
     "name": "stdout",
     "output_type": "stream",
     "text": [
      "123.321000\n",
      "  123.81\n",
      "              123.81\n",
      "  123.81\n",
      "  123.82\n",
      "123.85  \n"
     ]
    }
   ],
   "source": [
    "print(\"%f\"%123.321)\n",
    "print(\"%8.2f\"%123.81)\n",
    "print(\"%20.2f\"%123.81)\n",
    "print(\"%8.2f\"%123.811234)\n",
    "print(\"%8.2f\"%123.817234)\n",
    "print(\"%-8.2f\"%123.85123)\n"
   ]
  },
  {
   "cell_type": "code",
   "execution_count": 10,
   "metadata": {},
   "outputs": [
    {
     "name": "stdout",
     "output_type": "stream",
     "text": [
      "I eat 3 apples\n"
     ]
    }
   ],
   "source": [
    "print(\"I eat %d apples\" %3)"
   ]
  },
  {
   "cell_type": "code",
   "execution_count": 11,
   "metadata": {},
   "outputs": [
    {
     "name": "stdout",
     "output_type": "stream",
     "text": [
      "I eat five apples\n"
     ]
    }
   ],
   "source": [
    "print(\"I eat %s apples\" %\"five\")"
   ]
  },
  {
   "cell_type": "code",
   "execution_count": 13,
   "metadata": {},
   "outputs": [
    {
     "name": "stdout",
     "output_type": "stream",
     "text": [
      "i eat 4 apples\n",
      "i eat 4 apples\n"
     ]
    }
   ],
   "source": [
    "number=4\n",
    "print(\"i eat\",number,\"apples\")\n",
    "print(\"i eat %d apples\" %number)"
   ]
  },
  {
   "cell_type": "code",
   "execution_count": 15,
   "metadata": {},
   "outputs": [
    {
     "name": "stdout",
     "output_type": "stream",
     "text": [
      "i ate 10 apples. so i was sick for three dats\n"
     ]
    }
   ],
   "source": [
    "number =10\n",
    "day =\"three\"\n",
    "print(\"i ate %d apples. so i was sick for %s dats\"%(number,day))"
   ]
  },
  {
   "cell_type": "code",
   "execution_count": 16,
   "metadata": {},
   "outputs": [
    {
     "name": "stdout",
     "output_type": "stream",
     "text": [
      "hong's favorite number is 7\n"
     ]
    }
   ],
   "source": [
    "print(\"%s's favorite number is %d\" %(\"hong\",7))"
   ]
  },
  {
   "cell_type": "code",
   "execution_count": 17,
   "metadata": {},
   "outputs": [
    {
     "name": "stdout",
     "output_type": "stream",
     "text": [
      "Test1 :   776, price : 51234.12 \n"
     ]
    }
   ],
   "source": [
    "print(\"Test1 : %5d, price : %4.2f \" %(776,51234.1234))"
   ]
  },
  {
   "cell_type": "code",
   "execution_count": 20,
   "metadata": {},
   "outputs": [
    {
     "name": "stdout",
     "output_type": "stream",
     "text": [
      "성장률 :3%\n"
     ]
    }
   ],
   "source": [
    "print(\"성장률 :%d%%\" %3)"
   ]
  },
  {
   "cell_type": "code",
   "execution_count": 21,
   "metadata": {},
   "outputs": [
    {
     "name": "stdout",
     "output_type": "stream",
     "text": [
      "아이구%n배가고프네\n"
     ]
    }
   ],
   "source": [
    "print(\"아이구%n배가고프네\")"
   ]
  },
  {
   "cell_type": "code",
   "execution_count": 22,
   "metadata": {},
   "outputs": [
    {
     "name": "stdout",
     "output_type": "stream",
     "text": [
      "아이구\n",
      "배가고프네\n"
     ]
    }
   ],
   "source": [
    "print(\"아이구\\n배가고프네\")"
   ]
  },
  {
   "cell_type": "code",
   "execution_count": 26,
   "metadata": {},
   "outputs": [
    {
     "name": "stdout",
     "output_type": "stream",
     "text": [
      "you and me\n"
     ]
    }
   ],
   "source": [
    "print(\"{} and {}\".format('you','me'))"
   ]
  },
  {
   "cell_type": "code",
   "execution_count": 27,
   "metadata": {},
   "outputs": [
    {
     "name": "stdout",
     "output_type": "stream",
     "text": [
      "I eat 8 apples\n"
     ]
    }
   ],
   "source": [
    "print(\"I eat {} apples\".format(8))"
   ]
  },
  {
   "cell_type": "code",
   "execution_count": 29,
   "metadata": {},
   "outputs": [
    {
     "name": "stdout",
     "output_type": "stream",
     "text": [
      "you and Me and you\n"
     ]
    },
    {
     "ename": "IndexError",
     "evalue": "Replacement index 2 out of range for positional args tuple",
     "output_type": "error",
     "traceback": [
      "\u001b[1;31m---------------------------------------------------------------------------\u001b[0m",
      "\u001b[1;31mIndexError\u001b[0m                                Traceback (most recent call last)",
      "\u001b[1;32m<ipython-input-29-94c745bd622a>\u001b[0m in \u001b[0;36m<module>\u001b[1;34m\u001b[0m\n\u001b[0;32m      1\u001b[0m \u001b[0mprint\u001b[0m\u001b[1;33m(\u001b[0m\u001b[1;34m'{0} and {1} and {0}'\u001b[0m\u001b[1;33m.\u001b[0m\u001b[0mformat\u001b[0m\u001b[1;33m(\u001b[0m\u001b[1;34m\"you\"\u001b[0m\u001b[1;33m,\u001b[0m\u001b[1;34m\"Me\"\u001b[0m\u001b[1;33m)\u001b[0m\u001b[1;33m)\u001b[0m\u001b[1;33m\u001b[0m\u001b[1;33m\u001b[0m\u001b[0m\n\u001b[1;32m----> 2\u001b[1;33m \u001b[0mprint\u001b[0m\u001b[1;33m(\u001b[0m\u001b[1;34m'{} and {} and {} '\u001b[0m\u001b[1;33m.\u001b[0m\u001b[0mformat\u001b[0m\u001b[1;33m(\u001b[0m\u001b[1;34m\"you\"\u001b[0m\u001b[1;33m,\u001b[0m\u001b[1;34m\"ME\"\u001b[0m\u001b[1;33m)\u001b[0m\u001b[1;33m)\u001b[0m\u001b[1;33m\u001b[0m\u001b[1;33m\u001b[0m\u001b[0m\n\u001b[0m",
      "\u001b[1;31mIndexError\u001b[0m: Replacement index 2 out of range for positional args tuple"
     ]
    }
   ],
   "source": [
    "print('{0} and {1} and {0}'.format(\"you\",\"Me\"))\n",
    "print('{} and {} and {} '.format(\"you\",\"ME\"))"
   ]
  },
  {
   "cell_type": "code",
   "execution_count": 30,
   "metadata": {},
   "outputs": [
    {
     "name": "stdout",
     "output_type": "stream",
     "text": [
      "you and me\n"
     ]
    }
   ],
   "source": [
    "print('{var1} and {var2}'.format(var1='you',var2='me'))"
   ]
  },
  {
   "cell_type": "code",
   "execution_count": 33,
   "metadata": {},
   "outputs": [
    {
     "name": "stdout",
     "output_type": "stream",
     "text": [
      "i ate 20 apples . so i was sick for 10 days\n"
     ]
    }
   ],
   "source": [
    "print(\"i ate {0} apples . so i was sick for {day} days\".format(20,day=10))"
   ]
  },
  {
   "cell_type": "code",
   "execution_count": 34,
   "metadata": {},
   "outputs": [
    {
     "name": "stdout",
     "output_type": "stream",
     "text": [
      "\n",
      " 줄 바꿈 \n",
      " 문자\n"
     ]
    }
   ],
   "source": [
    "print(\"\\n 줄 바꿈 \\n 문자\")"
   ]
  },
  {
   "cell_type": "code",
   "execution_count": 35,
   "metadata": {},
   "outputs": [
    {
     "name": "stdout",
     "output_type": "stream",
     "text": [
      "\t 탭 \t\n"
     ]
    }
   ],
   "source": [
    "print(\"\\t 탭 \\t\")"
   ]
  },
  {
   "cell_type": "code",
   "execution_count": 36,
   "metadata": {},
   "outputs": [
    {
     "name": "stdout",
     "output_type": "stream",
     "text": [
      "hello\bworld\n"
     ]
    }
   ],
   "source": [
    "print(\"hello\\bworld\")"
   ]
  },
  {
   "cell_type": "code",
   "execution_count": 39,
   "metadata": {},
   "outputs": [
    {
     "name": "stdout",
     "output_type": "stream",
     "text": [
      "good\\pworld\n"
     ]
    }
   ],
   "source": [
    "print(\"good\\pworld\")"
   ]
  },
  {
   "cell_type": "code",
   "execution_count": 40,
   "metadata": {},
   "outputs": [
    {
     "name": "stdout",
     "output_type": "stream",
     "text": [
      "\\n \\t \\\\ 를 그대로 표현\n"
     ]
    }
   ],
   "source": [
    "print(r\"\\n \\t \\\\ 를 그대로 표현\")"
   ]
  },
  {
   "cell_type": "code",
   "execution_count": 41,
   "metadata": {},
   "outputs": [
    {
     "name": "stdout",
     "output_type": "stream",
     "text": [
      "python's favorite\n"
     ]
    }
   ],
   "source": [
    "print(\"python's favorite\")"
   ]
  },
  {
   "cell_type": "code",
   "execution_count": 42,
   "metadata": {},
   "outputs": [
    {
     "name": "stdout",
     "output_type": "stream",
     "text": [
      "python's favorite\n"
     ]
    }
   ],
   "source": [
    "print('python\\'s favorite')"
   ]
  },
  {
   "cell_type": "code",
   "execution_count": null,
   "metadata": {},
   "outputs": [],
   "source": []
  }
 ],
 "metadata": {
  "kernelspec": {
   "display_name": "Python 3",
   "language": "python",
   "name": "python3"
  },
  "language_info": {
   "codemirror_mode": {
    "name": "ipython",
    "version": 3
   },
   "file_extension": ".py",
   "mimetype": "text/x-python",
   "name": "python",
   "nbconvert_exporter": "python",
   "pygments_lexer": "ipython3",
   "version": "3.8.5"
  }
 },
 "nbformat": 4,
 "nbformat_minor": 4
}
