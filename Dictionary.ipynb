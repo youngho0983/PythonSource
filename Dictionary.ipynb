{
 "cells": [
  {
   "cell_type": "code",
   "execution_count": 1,
   "metadata": {},
   "outputs": [],
   "source": [
    "## dictionary : key  value"
   ]
  },
  {
   "cell_type": "code",
   "execution_count": 11,
   "metadata": {},
   "outputs": [
    {
     "name": "stdout",
     "output_type": "stream",
     "text": [
      "{'name': 'kim', 'age': 12}\n",
      "kim\n"
     ]
    }
   ],
   "source": [
    "dic1= {\"name\":\"kim\",\"age\":12}\n",
    "print(dic1)\n",
    "print(dic1[\"name\"])\n",
    "#print(dic1[\"addr\"])\n"
   ]
  },
  {
   "cell_type": "code",
   "execution_count": 12,
   "metadata": {},
   "outputs": [
    {
     "name": "stdout",
     "output_type": "stream",
     "text": [
      "{0: 'kim', 1: 12}\n"
     ]
    }
   ],
   "source": [
    "dic2={0:\"kim\",1:12}\n",
    "print(dic2)"
   ]
  },
  {
   "cell_type": "code",
   "execution_count": 13,
   "metadata": {},
   "outputs": [
    {
     "name": "stdout",
     "output_type": "stream",
     "text": [
      "{'arr': [1, 2, 3, 4, 5]}\n"
     ]
    }
   ],
   "source": [
    "dic3={\"arr\":[1,2,3,4,5]}\n",
    "print(dic3)"
   ]
  },
  {
   "cell_type": "code",
   "execution_count": 15,
   "metadata": {},
   "outputs": [
    {
     "name": "stdout",
     "output_type": "stream",
     "text": [
      "{'name': 'kim', 'age': 12, 'birth': '1115'}\n"
     ]
    }
   ],
   "source": [
    "# 추가\n",
    "\n",
    "dic1['birth']=\"1115\"\n",
    "print(dic1)"
   ]
  },
  {
   "cell_type": "code",
   "execution_count": 16,
   "metadata": {},
   "outputs": [],
   "source": [
    "dic2[2]=['hello','python','hello jsp']"
   ]
  },
  {
   "cell_type": "code",
   "execution_count": 17,
   "metadata": {},
   "outputs": [
    {
     "name": "stdout",
     "output_type": "stream",
     "text": [
      "{0: 'kim', 1: 12, 2: ['hello', 'python', 'hello jsp']}\n"
     ]
    }
   ],
   "source": [
    "print(dic2)"
   ]
  },
  {
   "cell_type": "code",
   "execution_count": 18,
   "metadata": {},
   "outputs": [
    {
     "name": "stdout",
     "output_type": "stream",
     "text": [
      "{'arr': [1, 2, 3, 4, 5], 'rank': (16, 17, 18)}\n"
     ]
    }
   ],
   "source": [
    "dic3['rank']=(16,17,18)\n",
    "print(dic3)"
   ]
  },
  {
   "cell_type": "code",
   "execution_count": 28,
   "metadata": {},
   "outputs": [
    {
     "name": "stdout",
     "output_type": "stream",
     "text": [
      "{1: 3, 2: 4, 3: 3, 4: 3, 5: 2, 6: 1, 7: 2, 8: 2, 9: 3}\n"
     ]
    }
   ],
   "source": [
    "numbers = [1,2,6,8,4,3,2,1,9,5,4,9,7,2,1,3,5,4,8,9,7,2,3]\n",
    "\n",
    "#numbers 내부에 드러 있는 숫자가 각각 몇번씩 등장하는지 출력하기\n",
    "\n",
    "temp2={}\n",
    "for i in range(1,10):\n",
    "    temp2[i]=numbers.count(i)\n",
    "\n",
    "print(temp2)"
   ]
  },
  {
   "cell_type": "code",
   "execution_count": 30,
   "metadata": {},
   "outputs": [
    {
     "name": "stdout",
     "output_type": "stream",
     "text": [
      "{'name': 'kim', 'age': 12}\n"
     ]
    }
   ],
   "source": [
    "del dic1['birth']\n",
    "print(dic1)"
   ]
  },
  {
   "cell_type": "code",
   "execution_count": 31,
   "metadata": {},
   "outputs": [
    {
     "name": "stdout",
     "output_type": "stream",
     "text": [
      "{2: 4, 3: 3, 4: 3, 5: 2, 6: 1, 7: 2, 8: 2, 9: 3}\n"
     ]
    }
   ],
   "source": [
    "del temp2[1]\n",
    "print(temp2)"
   ]
  },
  {
   "cell_type": "code",
   "execution_count": null,
   "metadata": {},
   "outputs": [],
   "source": []
  },
  {
   "cell_type": "code",
   "execution_count": 32,
   "metadata": {},
   "outputs": [
    {
     "name": "stdout",
     "output_type": "stream",
     "text": [
      "dict_keys(['name', 'age'])\n"
     ]
    }
   ],
   "source": [
    "# 관련 함수\n",
    "\n",
    "# 키값만 가져오기\n",
    "print(dic1.keys())"
   ]
  },
  {
   "cell_type": "code",
   "execution_count": 33,
   "metadata": {},
   "outputs": [
    {
     "name": "stdout",
     "output_type": "stream",
     "text": [
      "dict_values(['kim', 12])\n"
     ]
    }
   ],
   "source": [
    "print(dic1.values())"
   ]
  },
  {
   "cell_type": "code",
   "execution_count": null,
   "metadata": {},
   "outputs": [],
   "source": []
  },
  {
   "cell_type": "code",
   "execution_count": 35,
   "metadata": {},
   "outputs": [
    {
     "name": "stdout",
     "output_type": "stream",
     "text": [
      "dict_items([('name', 'kim'), ('age', 12)])\n"
     ]
    }
   ],
   "source": [
    "#key ,value 쌍으로 가져오기\n",
    "\n",
    "print(dic1.items())"
   ]
  },
  {
   "cell_type": "code",
   "execution_count": null,
   "metadata": {},
   "outputs": [],
   "source": []
  },
  {
   "cell_type": "code",
   "execution_count": 38,
   "metadata": {},
   "outputs": [
    {
     "name": "stdout",
     "output_type": "stream",
     "text": [
      "None\n"
     ]
    }
   ],
   "source": [
    "print(dic1.get('birth'))"
   ]
  },
  {
   "cell_type": "code",
   "execution_count": 39,
   "metadata": {},
   "outputs": [
    {
     "name": "stdout",
     "output_type": "stream",
     "text": [
      "{'name': 'kim', 'age': 12}\n"
     ]
    }
   ],
   "source": [
    "print(dic1)"
   ]
  },
  {
   "cell_type": "code",
   "execution_count": 47,
   "metadata": {},
   "outputs": [
    {
     "name": "stdout",
     "output_type": "stream",
     "text": [
      "None\n",
      "None\n",
      "으앙\n"
     ]
    }
   ],
   "source": [
    "print(dic1.get('name'))  #get 함수는 없는거 가져올 시 None 가져옴\n",
    "print(dic1.get('hello'))\n",
    "if dic1.get('hello')==\"None\":\n",
    "    print(\"굿 되는군\")\n",
    "else :\n",
    "    print(\"으앙\")"
   ]
  },
  {
   "cell_type": "code",
   "execution_count": 41,
   "metadata": {},
   "outputs": [
    {
     "name": "stdout",
     "output_type": "stream",
     "text": [
      "kim\n"
     ]
    }
   ],
   "source": [
    "print(dic1['name'])"
   ]
  },
  {
   "cell_type": "code",
   "execution_count": 43,
   "metadata": {},
   "outputs": [
    {
     "name": "stdout",
     "output_type": "stream",
     "text": [
      "True\n"
     ]
    }
   ],
   "source": [
    "print(\"name\"in dic1)"
   ]
  },
  {
   "cell_type": "code",
   "execution_count": 44,
   "metadata": {},
   "outputs": [
    {
     "name": "stdout",
     "output_type": "stream",
     "text": [
      "{}\n"
     ]
    }
   ],
   "source": [
    "dic1.clear()\n",
    "print(dic1)"
   ]
  },
  {
   "cell_type": "code",
   "execution_count": null,
   "metadata": {},
   "outputs": [],
   "source": []
  },
  {
   "cell_type": "code",
   "execution_count": 49,
   "metadata": {},
   "outputs": [
    {
     "name": "stdout",
     "output_type": "stream",
     "text": [
      "name\n",
      "age\n"
     ]
    }
   ],
   "source": [
    "myInfo={\"name\" : \"seo\",\"age\":32}\n",
    "for key in myInfo.keys():\n",
    "    print(key)"
   ]
  },
  {
   "cell_type": "code",
   "execution_count": 50,
   "metadata": {},
   "outputs": [
    {
     "name": "stdout",
     "output_type": "stream",
     "text": [
      "seo\n",
      "32\n"
     ]
    }
   ],
   "source": [
    "for v in myInfo.values():\n",
    "    print(v)"
   ]
  },
  {
   "cell_type": "code",
   "execution_count": 55,
   "metadata": {},
   "outputs": [
    {
     "name": "stdout",
     "output_type": "stream",
     "text": [
      "name seo\n",
      "age 32\n"
     ]
    }
   ],
   "source": [
    "for k,v  in myInfo.items():\n",
    "    print(k,v);"
   ]
  },
  {
   "cell_type": "code",
   "execution_count": null,
   "metadata": {},
   "outputs": [],
   "source": []
  },
  {
   "cell_type": "code",
   "execution_count": 63,
   "metadata": {},
   "outputs": [
    {
     "name": "stdout",
     "output_type": "stream",
     "text": [
      "사과\n",
      "사과\n"
     ]
    }
   ],
   "source": [
    "# 아래 딕셔너리에서 '가을' 에 해당하는 과일을 출력 하기\n",
    "dict2={\"봄\":\"딸기\",\"여름\":\"토마토\",\"가을\":\"사과\"}\n",
    "for k,v in dict2.items():\n",
    "    if(k==\"가을\"):\n",
    "        print(v)\n",
    "print(dict2[\"가을\"])"
   ]
  },
  {
   "cell_type": "code",
   "execution_count": 61,
   "metadata": {},
   "outputs": [
    {
     "name": "stdout",
     "output_type": "stream",
     "text": [
      "True\n"
     ]
    }
   ],
   "source": [
    "print(\"사과\" in dict2.values())"
   ]
  },
  {
   "cell_type": "code",
   "execution_count": 67,
   "metadata": {},
   "outputs": [
    {
     "name": "stdout",
     "output_type": "stream",
     "text": [
      "{'사과', '토마토', '딸기'}\n"
     ]
    }
   ],
   "source": [
    "fruits={fruit for fruit in dict2.values()}\n",
    "print(fruits)"
   ]
  },
  {
   "cell_type": "code",
   "execution_count": null,
   "metadata": {},
   "outputs": [],
   "source": []
  },
  {
   "cell_type": "code",
   "execution_count": 69,
   "metadata": {},
   "outputs": [
    {
     "name": "stdout",
     "output_type": "stream",
     "text": [
      "{'토마토', '딸기'}\n"
     ]
    }
   ],
   "source": [
    "fruits={fruit for fruit in dict2.values() if fruit !=\"사과\"}\n",
    "\n",
    "print(fruits)"
   ]
  },
  {
   "cell_type": "code",
   "execution_count": 71,
   "metadata": {},
   "outputs": [
    {
     "name": "stdout",
     "output_type": "stream",
     "text": [
      "{'봄': '딸기', '여름': '토마토'}\n"
     ]
    }
   ],
   "source": [
    "fruits={key:value for (key,value) in dict2.items() if value !=\"사과\"}\n",
    "\n",
    "print(fruits)"
   ]
  },
  {
   "cell_type": "code",
   "execution_count": 72,
   "metadata": {},
   "outputs": [
    {
     "name": "stdout",
     "output_type": "stream",
     "text": [
      "{('봄', '딸기'), ('여름', '토마토')}\n"
     ]
    }
   ],
   "source": [
    "fruits={(key,value) for (key,value) in dict2.items() if value !=\"사과\"}\n",
    "\n",
    "print(fruits)"
   ]
  },
  {
   "cell_type": "code",
   "execution_count": 76,
   "metadata": {},
   "outputs": [
    {
     "name": "stdout",
     "output_type": "stream",
     "text": [
      "{'A': 90, 'B': 80, 'C': 70}\n",
      "80\n",
      "{'A': 90, 'C': 70}\n"
     ]
    }
   ],
   "source": [
    "# 딕셔너리 생성\n",
    "\n",
    "\n",
    "#생성된 딕셔너리에서 B 키에 해당하는 값만 출력하기\n",
    "\n",
    "\n",
    "#B키 값을 삭제 한 후 딕셔너리를 출력하시오\n",
    "\n",
    "\n",
    "dict1={'A':90 ,'B' :80 , 'C' :70}\n",
    "print(dict1)\n",
    "\n",
    "print(dict1['B'])\n",
    "\n",
    "del dict1['B']\n",
    "print(dict1)"
   ]
  },
  {
   "cell_type": "code",
   "execution_count": 79,
   "metadata": {},
   "outputs": [
    {
     "name": "stdout",
     "output_type": "stream",
     "text": [
      "{'성인': 10000, '청소년': 7000, '아동': 3000, '소아': 0}\n",
      "<generator object <genexpr> at 0x00000000075F9350>\n",
      "dict_keys(['성인', '청소년', '아동', '소아'])\n",
      "<generator object <genexpr> at 0x00000000075F9350>\n",
      "dict_values([10000, 7000, 3000, 0])\n"
     ]
    }
   ],
   "source": [
    "\n",
    "#딕셔너리 생성\n",
    "\n",
    "#\"성인\":10000,\"청소년\":7000,\"아동\":3000\n",
    "\n",
    "# 생성된 딕셔너리에 \"소아\" :0 추가하기\n",
    "\n",
    "#현재 딕셔너리의 key 값만 출력하기\n",
    "\n",
    "#현재 딕셔너리의 value 값만 출력하기\n",
    "\n",
    "temp ={\n",
    "    \"성인\":10000,\n",
    "    \"청소년\":7000,\n",
    "    \"아동\":3000\n",
    "}\n",
    "temp[\"소아\"]=0\n",
    "print(temp)\n",
    "print(key for key in temp.keys())\n",
    "print(temp.keys())\n",
    "print(value for value in temp.values())\n",
    "print(temp.values())"
   ]
  },
  {
   "cell_type": "code",
   "execution_count": 81,
   "metadata": {},
   "outputs": [],
   "source": [
    "character ={\n",
    "    \"name\" :\"기사\",\n",
    "    \"level\": 12,\n",
    "    \"items\" : {\"sword\":\"불꽃의 검\",\"armor\" : \"플레이트\"},\n",
    "    \"skill\":[\"베기\",\"세게 베기\",\"아주 세게 베기\"]\n",
    "}"
   ]
  },
  {
   "cell_type": "code",
   "execution_count": 82,
   "metadata": {},
   "outputs": [
    {
     "data": {
      "text/plain": [
       "dict"
      ]
     },
     "execution_count": 82,
     "metadata": {},
     "output_type": "execute_result"
    }
   ],
   "source": [
    "type(character)"
   ]
  },
  {
   "cell_type": "code",
   "execution_count": null,
   "metadata": {},
   "outputs": [],
   "source": []
  },
  {
   "cell_type": "code",
   "execution_count": 84,
   "metadata": {},
   "outputs": [
    {
     "name": "stdout",
     "output_type": "stream",
     "text": [
      "name : 기사 \n",
      "level : 12 \n",
      "sword : 불꽃의 검\n",
      "armor : 플레이트\n",
      "skill : 베기 \n",
      "skill : 세게 베기 \n",
      "skill : 아주 세게 베기 \n"
     ]
    }
   ],
   "source": [
    "for key in character:\n",
    "    type1 =type(character[key])\n",
    "    \n",
    "    if type1 !=dict:\n",
    "        if (type1 ==str) | (type1 == int):\n",
    "            print(\"{} : {} \".format(key,character[key]))\n",
    "        else:\n",
    "            for item in character[key]:\n",
    "                print(\"{} : {} \".format(key,item))\n",
    "    else:\n",
    "        for subkey in character[key]:\n",
    "            print(subkey, \":\",character[key][subkey])"
   ]
  },
  {
   "cell_type": "code",
   "execution_count": null,
   "metadata": {},
   "outputs": [],
   "source": []
  },
  {
   "cell_type": "code",
   "execution_count": null,
   "metadata": {},
   "outputs": [],
   "source": []
  },
  {
   "cell_type": "code",
   "execution_count": null,
   "metadata": {},
   "outputs": [],
   "source": []
  },
  {
   "cell_type": "code",
   "execution_count": null,
   "metadata": {},
   "outputs": [],
   "source": []
  },
  {
   "cell_type": "code",
   "execution_count": null,
   "metadata": {},
   "outputs": [],
   "source": []
  },
  {
   "cell_type": "code",
   "execution_count": null,
   "metadata": {},
   "outputs": [],
   "source": []
  },
  {
   "cell_type": "code",
   "execution_count": null,
   "metadata": {},
   "outputs": [],
   "source": []
  },
  {
   "cell_type": "code",
   "execution_count": null,
   "metadata": {},
   "outputs": [],
   "source": []
  },
  {
   "cell_type": "code",
   "execution_count": null,
   "metadata": {},
   "outputs": [],
   "source": []
  },
  {
   "cell_type": "code",
   "execution_count": null,
   "metadata": {},
   "outputs": [],
   "source": []
  },
  {
   "cell_type": "code",
   "execution_count": null,
   "metadata": {},
   "outputs": [],
   "source": []
  },
  {
   "cell_type": "code",
   "execution_count": null,
   "metadata": {},
   "outputs": [],
   "source": []
  },
  {
   "cell_type": "code",
   "execution_count": null,
   "metadata": {},
   "outputs": [],
   "source": []
  },
  {
   "cell_type": "code",
   "execution_count": null,
   "metadata": {},
   "outputs": [],
   "source": []
  },
  {
   "cell_type": "code",
   "execution_count": null,
   "metadata": {},
   "outputs": [],
   "source": []
  }
 ],
 "metadata": {
  "kernelspec": {
   "display_name": "Python 3",
   "language": "python",
   "name": "python3"
  },
  "language_info": {
   "codemirror_mode": {
    "name": "ipython",
    "version": 3
   },
   "file_extension": ".py",
   "mimetype": "text/x-python",
   "name": "python",
   "nbconvert_exporter": "python",
   "pygments_lexer": "ipython3",
   "version": "3.8.5"
  }
 },
 "nbformat": 4,
 "nbformat_minor": 4
}
