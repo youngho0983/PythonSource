{
 "cells": [
  {
   "cell_type": "code",
   "execution_count": 1,
   "metadata": {},
   "outputs": [],
   "source": [
    "## 학생 3명의 정보(이름, 학번, 학년, 학생정보(성별 , 과목 성적)) 을 담아서 처리"
   ]
  },
  {
   "cell_type": "code",
   "execution_count": 2,
   "metadata": {},
   "outputs": [],
   "source": [
    "# 학생 1\n",
    "student_name_1=\"kim\"\n",
    "student_number_1=1\n",
    "student_grade_1=1\n",
    "student_detail_1=[{'gender':'male'},{'score1':95},{'score2':88}]\n",
    "# 학생 2\n",
    "student_name_2=\"Park\"\n",
    "student_number_2=2\n",
    "student_grade_2=2\n",
    "student_detail_2=[{'gender':'female'},{'score1':75},{'score2':68}]\n",
    "# 학생 3\n",
    "student_name_3=\"lee\"\n",
    "student_number_3=3\n",
    "student_grade_3=3\n",
    "student_detail_3=[{'gender':'male'},{'score1':99},{'score2':89}]"
   ]
  },
  {
   "cell_type": "code",
   "execution_count": 4,
   "metadata": {},
   "outputs": [
    {
     "name": "stdout",
     "output_type": "stream",
     "text": [
      "이름 :kim , 학번 : 1 , 학년 : 1 , 학생정보 : [{'gender': 'male'}, {'score1': 95}, {'score2': 88}]\n",
      "이름 :Park , 학번 : 2 , 학년 : 2 , 학생정보 : [{'gender': 'female'}, {'score1': 75}, {'score2': 68}]\n",
      "이름 :lee , 학번 : 3 , 학년 : 3 , 학생정보 : [{'gender': 'male'}, {'score1': 99}, {'score2': 89}]\n"
     ]
    }
   ],
   "source": [
    "# 학생 정보 출력\n",
    "print(\"이름 :%s , 학번 : %d , 학년 : %d , 학생정보 : %s\"%(student_name_1,student_number_1,student_grade_1,student_detail_1))\n",
    "print(\"이름 :%s , 학번 : %d , 학년 : %d , 학생정보 : %s\"%(student_name_2,student_number_2,student_grade_2,student_detail_2))\n",
    "print(\"이름 :%s , 학번 : %d , 학년 : %d , 학생정보 : %s\"%(student_name_3,student_number_3,student_grade_3,student_detail_3))"
   ]
  },
  {
   "cell_type": "code",
   "execution_count": 6,
   "metadata": {},
   "outputs": [],
   "source": [
    "#개선-list"
   ]
  },
  {
   "cell_type": "code",
   "execution_count": 7,
   "metadata": {},
   "outputs": [],
   "source": [
    "student_names_list =['Kim','Park','lee']\n",
    "student_numbers_list=[1,2,3]\n",
    "student_grade_list=[1,2,3]\n",
    "student_details_list=[\n",
    "    {'gender': 'male', 'score1': 95 , 'score2': 88},\n",
    "    {'gender': 'female','score1': 75,'score2': 68},\n",
    "    {'gender': 'male','score1': 99, 'score2': 89}\n",
    "]"
   ]
  },
  {
   "cell_type": "code",
   "execution_count": 9,
   "metadata": {},
   "outputs": [
    {
     "name": "stdout",
     "output_type": "stream",
     "text": [
      "['Kim', 'Park', 'lee']\n",
      "[1, 2, 3]\n"
     ]
    }
   ],
   "source": [
    "print(student_names_list)\n",
    "print(student_grade_list)"
   ]
  },
  {
   "cell_type": "code",
   "execution_count": 10,
   "metadata": {},
   "outputs": [],
   "source": [
    "del(student_names_list[1])\n",
    "del(student_numbers_list[1])\n",
    "del(student_grade_list[1])\n",
    "del(student_details_list[1])\n"
   ]
  },
  {
   "cell_type": "code",
   "execution_count": 13,
   "metadata": {},
   "outputs": [
    {
     "name": "stdout",
     "output_type": "stream",
     "text": [
      "['Kim', 'lee']\n",
      "[1, 3]\n",
      "[1, 3]\n",
      "[{'gender': 'male', 'score1': 95, 'score2': 88}, {'gender': 'male', 'score1': 99, 'score2': 89}]\n"
     ]
    }
   ],
   "source": [
    "print(student_names_list)\n",
    "print(student_numbers_list)\n",
    "print(student_grade_list)\n",
    "print(student_details_list)"
   ]
  },
  {
   "cell_type": "code",
   "execution_count": 14,
   "metadata": {},
   "outputs": [],
   "source": [
    "#개선 dict"
   ]
  },
  {
   "cell_type": "code",
   "execution_count": 22,
   "metadata": {},
   "outputs": [],
   "source": [
    "student_dicts=[\n",
    "    {'이름': 'kim' , '학번': 1 , '학년' : 1 , '학생정보' : {'gender': 'male', 'score1': 95, 'score2': 88}},\n",
    "    {'이름' :'Park' , '학번': 2 , '학년' : 2 , '학생정보' : {'gender': 'female', 'score1': 75,'score2': 68}},\n",
    "    {'이름' :'lee' , '학번': 3 , '학년' : 3 , '학생정보' : {'gender': 'male', 'score1': 99, 'score2': 89}}\n",
    "    ]"
   ]
  },
  {
   "cell_type": "code",
   "execution_count": 24,
   "metadata": {},
   "outputs": [
    {
     "name": "stdout",
     "output_type": "stream",
     "text": [
      "{'이름': 'kim', '학번': 1, '학년': 1, '학생정보': {'gender': 'male', 'score1': 95, 'score2': 88}}\n",
      "{'이름': 'Park', '학번': 2, '학년': 2, '학생정보': {'gender': 'female', 'score1': 75, 'score2': 68}}\n",
      "{'이름': 'lee', '학번': 3, '학년': 3, '학생정보': {'gender': 'male', 'score1': 99, 'score2': 89}}\n"
     ]
    }
   ],
   "source": [
    "for i in student_dicts :\n",
    "    print(i)"
   ]
  },
  {
   "cell_type": "code",
   "execution_count": 25,
   "metadata": {},
   "outputs": [],
   "source": [
    "# 클래스 - 재사용성 증가, 코드 반복을 최소화, 메소드 이용\n"
   ]
  },
  {
   "cell_type": "code",
   "execution_count": null,
   "metadata": {},
   "outputs": [],
   "source": []
  },
  {
   "cell_type": "code",
   "execution_count": 26,
   "metadata": {},
   "outputs": [
    {
     "ename": "SyntaxError",
     "evalue": "invalid syntax (<ipython-input-26-5ef9dc4cb34b>, line 1)",
     "output_type": "error",
     "traceback": [
      "\u001b[1;36m  File \u001b[1;32m\"<ipython-input-26-5ef9dc4cb34b>\"\u001b[1;36m, line \u001b[1;32m1\u001b[0m\n\u001b[1;33m    class\u001b[0m\n\u001b[1;37m         ^\u001b[0m\n\u001b[1;31mSyntaxError\u001b[0m\u001b[1;31m:\u001b[0m invalid syntax\n"
     ]
    }
   ],
   "source": []
  },
  {
   "cell_type": "code",
   "execution_count": 75,
   "metadata": {},
   "outputs": [],
   "source": [
    "class Student:\n",
    "    def __init__(self,name,number,grade,details):\n",
    "        self._name=name\n",
    "        self._number=number\n",
    "        self._grade=grade\n",
    "        self._details=details\n",
    "    \n",
    "#     def __str__(self):\n",
    "#         return 'str : {}'.format(self._name)\n",
    "    def __repr__(self):\n",
    "        return 'str : {} : {} '.format(self._name, self._number)"
   ]
  },
  {
   "cell_type": "code",
   "execution_count": 76,
   "metadata": {},
   "outputs": [],
   "source": [
    "student1 = Student('kim',1,1,{'gender': 'male', 'score1': 95, 'score2': 88})\n",
    "student2 = Student('Park',2,2,{'gender': 'female', 'score1': 75, 'score2': 68})\n",
    "student3 = Student('lee',3,3,{'gender': 'male', 'score1': 99, 'score2': 89})\n"
   ]
  },
  {
   "cell_type": "code",
   "execution_count": 77,
   "metadata": {},
   "outputs": [
    {
     "name": "stdout",
     "output_type": "stream",
     "text": [
      "str : kim : 1 \n",
      "str : Park : 2 \n",
      "str : lee : 3 \n"
     ]
    }
   ],
   "source": [
    "print(student1)\n",
    "print(student2)\n",
    "print(student3)\n"
   ]
  },
  {
   "cell_type": "code",
   "execution_count": 73,
   "metadata": {},
   "outputs": [
    {
     "name": "stdout",
     "output_type": "stream",
     "text": [
      "['__class__', '__delattr__', '__dict__', '__dir__', '__doc__', '__eq__', '__format__', '__ge__', '__getattribute__', '__gt__', '__hash__', '__init__', '__init_subclass__', '__le__', '__lt__', '__module__', '__ne__', '__new__', '__reduce__', '__reduce_ex__', '__repr__', '__setattr__', '__sizeof__', '__str__', '__subclasshook__', '__weakref__', '_details', '_grade', '_name', '_number']\n"
     ]
    }
   ],
   "source": [
    "print(dir(student1))"
   ]
  },
  {
   "cell_type": "code",
   "execution_count": 57,
   "metadata": {},
   "outputs": [
    {
     "name": "stdout",
     "output_type": "stream",
     "text": [
      "{'_name': 'kim', '_number': 1, '_grade': 1, '_details': {'gender': 'male', 'score1': 95, 'score2': 88}}\n"
     ]
    }
   ],
   "source": [
    "print(student1.__dict__)"
   ]
  },
  {
   "cell_type": "code",
   "execution_count": 99,
   "metadata": {},
   "outputs": [],
   "source": [
    "class UserInfo:\n",
    "    \"\"\"\n",
    "    UserInfo Class\n",
    "    Author : Hong\n",
    "    Date : 2020.02.23\n",
    "    Description : Class 작성법\n",
    "    \"\"\"\n",
    "    def __init__(self):\n",
    "        self.name=\"홍길동\"\n",
    "        self.age=\"25\"\n",
    "    \n",
    "    def user_Info(self): #인스턴스 메소드 : self 를 무보건 인자로 필요\n",
    "        return \"name:{} , age : {} \".format(self.name,self.age)"
   ]
  },
  {
   "cell_type": "code",
   "execution_count": 83,
   "metadata": {},
   "outputs": [],
   "source": [
    "#객체 생성\n",
    "user1=UserInfo()"
   ]
  },
  {
   "cell_type": "code",
   "execution_count": 85,
   "metadata": {},
   "outputs": [
    {
     "name": "stdout",
     "output_type": "stream",
     "text": [
      "메소드 실행\n"
     ]
    }
   ],
   "source": [
    "user1.user_Info()"
   ]
  },
  {
   "cell_type": "code",
   "execution_count": null,
   "metadata": {},
   "outputs": [],
   "source": []
  },
  {
   "cell_type": "code",
   "execution_count": null,
   "metadata": {},
   "outputs": [],
   "source": []
  },
  {
   "cell_type": "code",
   "execution_count": 87,
   "metadata": {},
   "outputs": [],
   "source": [
    "class Car:\n",
    "    color=\"\"\n",
    "    speed=0\n",
    "    \n",
    "    def upSpeed(self,value):\n",
    "        self.speed +=value\n",
    "    def downSpeed(self,value):\n",
    "        self.speed -=value\n",
    "    "
   ]
  },
  {
   "cell_type": "code",
   "execution_count": 88,
   "metadata": {},
   "outputs": [],
   "source": [
    "myCar1 =Car()\n",
    "myCar1.color=\"Red\"\n",
    "myCar1.speed =10\n",
    "\n",
    "myCar2 =Car()\n",
    "myCar2.color=\"Black\"\n",
    "myCar2.speed =20\n",
    "\n",
    "myCar3 = Car()\n",
    "myCar3.color =\"white\"\n",
    "myCar3.speed =30"
   ]
  },
  {
   "cell_type": "code",
   "execution_count": 94,
   "metadata": {},
   "outputs": [
    {
     "name": "stdout",
     "output_type": "stream",
     "text": [
      "Red 현재속도 10\n",
      "Black 현재속도 20\n",
      "white 현재속도 30\n"
     ]
    }
   ],
   "source": [
    "print(myCar1.color,\"현재속도\",myCar1.speed)\n",
    "print(myCar2.color,\"현재속도\",myCar2.speed)\n",
    "print(myCar3.color,\"현재속도\",myCar3.speed)"
   ]
  },
  {
   "cell_type": "code",
   "execution_count": 98,
   "metadata": {},
   "outputs": [
    {
     "name": "stdout",
     "output_type": "stream",
     "text": [
      "30\n"
     ]
    }
   ],
   "source": [
    "myCar1.downSpeed(20)\n",
    "print(myCar1.speed)"
   ]
  },
  {
   "cell_type": "code",
   "execution_count": 100,
   "metadata": {},
   "outputs": [
    {
     "name": "stdout",
     "output_type": "stream",
     "text": [
      "name:홍길동 , age : 25 \n"
     ]
    }
   ],
   "source": [
    "user1=UserInfo()\n",
    "print(user1.user_Info())"
   ]
  },
  {
   "cell_type": "code",
   "execution_count": 106,
   "metadata": {},
   "outputs": [],
   "source": [
    "class Calculator:\n",
    "    def __init__(self,result):\n",
    "        self.result =result\n",
    "    def addr(self,num):\n",
    "        self.result +=num\n",
    "        return self.result"
   ]
  },
  {
   "cell_type": "code",
   "execution_count": 108,
   "metadata": {},
   "outputs": [
    {
     "name": "stdout",
     "output_type": "stream",
     "text": [
      "cal1 :20 \n",
      "cal2 :120 \n"
     ]
    }
   ],
   "source": [
    "cal1 =Calculator(10)\n",
    "cal2 =Calculator(20)\n",
    "\n",
    "print(\"cal1 :{} \".format(cal1.addr(10)))\n",
    "print(\"cal2 :{} \".format(cal2.addr(100)))"
   ]
  },
  {
   "cell_type": "code",
   "execution_count": 130,
   "metadata": {},
   "outputs": [],
   "source": [
    "class UserInfo:\n",
    "    \"\"\"\n",
    "    UserInfo Class\n",
    "    Author : Hong\n",
    "    Date : 2020.02.23\n",
    "    Description : Class 작성법\n",
    "    \"\"\"\n",
    "    user_count=0\n",
    "    \n",
    "    def __init__(self,name,age):\n",
    "        self.name=name\n",
    "        self.age=age\n",
    "        UserInfo.user_count+=1\n",
    "    def user_Info(self): #인스턴스 메소드 : self 를 무보건 인자로 필요\n",
    "        return \"name:{} , age : {} \".format(self.name,self.age)\n",
    "    \n",
    "    def __del__(self):\n",
    "        UserInfo.user_count -=1"
   ]
  },
  {
   "cell_type": "code",
   "execution_count": 131,
   "metadata": {},
   "outputs": [],
   "source": [
    "user1 = UserInfo(\"김중원\",30)\n",
    "user2 = UserInfo(\"홍길동\",40)"
   ]
  },
  {
   "cell_type": "code",
   "execution_count": 132,
   "metadata": {},
   "outputs": [
    {
     "name": "stdout",
     "output_type": "stream",
     "text": [
      "name:김중원 , age : 30 \n",
      "name:홍길동 , age : 40 \n"
     ]
    }
   ],
   "source": [
    "print(user1.user_Info())\n",
    "print(user2.user_Info())"
   ]
  },
  {
   "cell_type": "code",
   "execution_count": 133,
   "metadata": {},
   "outputs": [
    {
     "name": "stdout",
     "output_type": "stream",
     "text": [
      "생성된  user :2명\n",
      "생성된  user :2명\n"
     ]
    }
   ],
   "source": [
    "print(\"생성된  user :{}명\".format(UserInfo.user_count))\n",
    "print(\"생성된  user :{}명\".format(user2.user_count))\n"
   ]
  },
  {
   "cell_type": "code",
   "execution_count": 126,
   "metadata": {},
   "outputs": [
    {
     "name": "stdout",
     "output_type": "stream",
     "text": [
      "['__class__', '__delattr__', '__dict__', '__dir__', '__doc__', '__eq__', '__format__', '__ge__', '__getattribute__', '__gt__', '__hash__', '__init__', '__init_subclass__', '__le__', '__lt__', '__module__', '__ne__', '__new__', '__reduce__', '__reduce_ex__', '__repr__', '__setattr__', '__sizeof__', '__str__', '__subclasshook__', '__weakref__', 'age', 'name', 'user_Info', 'user_count']\n",
      "------------------------------------------------------------\n",
      "['__class__', '__delattr__', '__dict__', '__dir__', '__doc__', '__eq__', '__format__', '__ge__', '__getattribute__', '__gt__', '__hash__', '__init__', '__init_subclass__', '__le__', '__lt__', '__module__', '__ne__', '__new__', '__reduce__', '__reduce_ex__', '__repr__', '__setattr__', '__sizeof__', '__str__', '__subclasshook__', '__weakref__', 'user_Info', 'user_count']\n"
     ]
    }
   ],
   "source": [
    "print(dir(user1))\n",
    "print(\"------\"*10)\n",
    "print(dir(UserInfo))"
   ]
  },
  {
   "cell_type": "code",
   "execution_count": 134,
   "metadata": {},
   "outputs": [
    {
     "name": "stdout",
     "output_type": "stream",
     "text": [
      "2\n"
     ]
    }
   ],
   "source": [
    "print(UserInfo.user_count)"
   ]
  },
  {
   "cell_type": "code",
   "execution_count": 135,
   "metadata": {},
   "outputs": [],
   "source": [
    "del(user1)"
   ]
  },
  {
   "cell_type": "code",
   "execution_count": 136,
   "metadata": {},
   "outputs": [
    {
     "name": "stdout",
     "output_type": "stream",
     "text": [
      "1\n"
     ]
    }
   ],
   "source": [
    "print(UserInfo.user_count)"
   ]
  },
  {
   "cell_type": "code",
   "execution_count": 138,
   "metadata": {},
   "outputs": [],
   "source": [
    "class Car:\n",
    "    car_count=0  # 클래스 변수\n",
    "    \n",
    "    #생성자\n",
    "    def __init__(self,count,color,speed):\n",
    "        self.color=color\n",
    "        self.speed=speed\n",
    "        #클래스 변수\n",
    "        Car.car_count +=count\n",
    "        \n",
    "    \n",
    "    #인스턴스 메소드\n",
    "    def upSpeed(self,value):\n",
    "        self.speed +=value\n",
    "        \n",
    "    def downSpeed(self,value):\n",
    "        self.speed -=value\n",
    "        \n",
    "    def __del__(self):\n",
    "        Car.car_count -=1\n",
    "    \n",
    "    "
   ]
  },
  {
   "cell_type": "code",
   "execution_count": null,
   "metadata": {},
   "outputs": [],
   "source": []
  },
  {
   "cell_type": "markdown",
   "metadata": {},
   "source": [
    "#\\"
   ]
  },
  {
   "cell_type": "code",
   "execution_count": 141,
   "metadata": {},
   "outputs": [
    {
     "name": "stdout",
     "output_type": "stream",
     "text": [
      "car1 의 현재 속도는 20  ,색상은 Red , 생산된 차량의 숫자는 총 2 대\n",
      "40\n",
      "car2 의 현재 속도는 40  ,색상은 Blue , 생산된 차량의 숫자는 총 3 대\n",
      "car3 의 현재 속도는 40  ,색상은 Black , 생산된 차량의 숫자는 총 4 대\n"
     ]
    }
   ],
   "source": [
    "car1=Car(1,\"Red\",10)\n",
    "car1.upSpeed(10)\n",
    "print(\"car1 의 현재 속도는 {}  ,색상은 {} , 생산된 차량의 숫자는 총 {} 대\".format(car1.speed,car1.color,Car.car_count))\n",
    "\n",
    "car2=Car(1,\"Blue\",20)\n",
    "car2.upSpeed(20)\n",
    "print(car2.speed)\n",
    "print(\"car2 의 현재 속도는 {}  ,색상은 {} , 생산된 차량의 숫자는 총 {} 대\".format(car2.speed,car2.color,Car.car_count))\n",
    "car3 =Car(1,\"Black\",30)\n",
    "car3.upSpeed(10)\n",
    "print(\"car3 의 현재 속도는 {}  ,색상은 {} , 생산된 차량의 숫자는 총 {} 대\".format(car3.speed,car3.color,Car.car_count))"
   ]
  },
  {
   "cell_type": "code",
   "execution_count": 143,
   "metadata": {},
   "outputs": [
    {
     "name": "stdout",
     "output_type": "stream",
     "text": [
      "2\n"
     ]
    }
   ],
   "source": [
    "del car2\n",
    "print(Car.car_count)"
   ]
  },
  {
   "cell_type": "code",
   "execution_count": 144,
   "metadata": {},
   "outputs": [
    {
     "name": "stdout",
     "output_type": "stream",
     "text": [
      "{'color': 'Red', 'speed': 20}\n"
     ]
    }
   ],
   "source": [
    "print(car1.__dict__)"
   ]
  },
  {
   "cell_type": "code",
   "execution_count": 147,
   "metadata": {},
   "outputs": [],
   "source": [
    "class SelfTest:\n",
    "    def function1():  #클래스 메서드\n",
    "        print(\"function1 called\")\n",
    "    \n",
    "    def function2(self): #인스턴스 메서드\n",
    "        print(\"function2 called\")\n",
    "    "
   ]
  },
  {
   "cell_type": "code",
   "execution_count": 153,
   "metadata": {},
   "outputs": [
    {
     "name": "stdout",
     "output_type": "stream",
     "text": [
      "function2 called\n",
      "function1 called\n"
     ]
    }
   ],
   "source": [
    "self1 =SelfTest()\n",
    "self1.function2()\n",
    "SelfTest.function1()\n"
   ]
  },
  {
   "cell_type": "code",
   "execution_count": 154,
   "metadata": {},
   "outputs": [
    {
     "name": "stdout",
     "output_type": "stream",
     "text": [
      "function2 called\n"
     ]
    }
   ],
   "source": [
    "SelfTest.function2(self1)"
   ]
  },
  {
   "cell_type": "code",
   "execution_count": 158,
   "metadata": {},
   "outputs": [],
   "source": [
    "class UserInfo:\n",
    "    \"\"\"\n",
    "    UserInfo Class\n",
    "    Author : Hong\n",
    "    Date : 2020.02.23\n",
    "    Description : Class 작성법\n",
    "    \"\"\"\n",
    "    \n",
    "    def __init__(self,name,age,email=\"xxx@gmail.com\"):\n",
    "        self.name=name\n",
    "        self.age=age\n",
    "        self.email=email\n",
    "    \n",
    "    def user_info(self):\n",
    "        return \"name : {} , age : {} , email : {} \".format(self.name,self.age,self.email)"
   ]
  },
  {
   "cell_type": "code",
   "execution_count": null,
   "metadata": {},
   "outputs": [],
   "source": []
  },
  {
   "cell_type": "code",
   "execution_count": 165,
   "metadata": {},
   "outputs": [],
   "source": [
    "user1 =UserInfo('홍길동',30,'hong@gmail.com')\n",
    "user2 =UserInfo(\"강감찬\",25)"
   ]
  },
  {
   "cell_type": "code",
   "execution_count": 166,
   "metadata": {},
   "outputs": [
    {
     "name": "stdout",
     "output_type": "stream",
     "text": [
      "{'name': '홍길동', 'age': 30, 'email': 'hong@gmail.com'}\n",
      "{'name': '강감찬', 'age': 25, 'email': None}\n"
     ]
    }
   ],
   "source": [
    "print(user1.__dict__)\n",
    "print(user2.__dict__)"
   ]
  },
  {
   "cell_type": "code",
   "execution_count": 164,
   "metadata": {},
   "outputs": [],
   "source": [
    "class UserInfo:\n",
    "    \"\"\"\n",
    "    UserInfo Class\n",
    "    Author : Hong\n",
    "    Date : 2020.02.23\n",
    "    Description : Class 작성법\n",
    "    \"\"\"\n",
    "    \n",
    "    def __init__(self,name,age,email=None):\n",
    "        self.name=name\n",
    "        self.age=age\n",
    "        self.email=email\n",
    "    \n",
    "    def user_info(self):\n",
    "        return \"name : {} , age : {} , email : {} \".format(self.name,self.age,self.email)"
   ]
  },
  {
   "cell_type": "code",
   "execution_count": 172,
   "metadata": {},
   "outputs": [],
   "source": [
    "class FourCal:\n",
    "    def __init__(self,num1,num2):\n",
    "        self.num1=num1\n",
    "        self.num2=num2\n",
    "    def hab(self):\n",
    "        return \"두 숫자의 합은 {}\".format(self.num1+self.num2)\n",
    "    def sub(self):\n",
    "        return \"두 숫자의 차는 {}\".format(self.num1-self.num2)\n",
    "    def mul(self):\n",
    "        return \"두 숫자의 곱은 {}\".format(self.num1*self.num2)\n",
    "    def div(self):\n",
    "        return \"두 숫자의 나눗셈 몫은 {}\".format(self.num1/self.num2)\n",
    "    \n",
    "    "
   ]
  },
  {
   "cell_type": "code",
   "execution_count": 173,
   "metadata": {},
   "outputs": [],
   "source": [
    "hell=FourCal(10,20)\n"
   ]
  },
  {
   "cell_type": "code",
   "execution_count": 174,
   "metadata": {},
   "outputs": [
    {
     "name": "stdout",
     "output_type": "stream",
     "text": [
      "두 숫자의 합은 30\n",
      "두 숫자의 차는 -10\n",
      "두 숫자의 곱은 200\n",
      "두 숫자의 나눗셈 몫은 0.5\n"
     ]
    }
   ],
   "source": [
    "print(hell.hab())\n",
    "print(hell.sub())\n",
    "print(hell.mul())\n",
    "print(hell.div())"
   ]
  },
  {
   "cell_type": "code",
   "execution_count": 176,
   "metadata": {},
   "outputs": [],
   "source": [
    "#Account 클래스 생성\n",
    "# 생성자 (accNo,name,balance 잔액) \n",
    "#withdraw(amount) 출금\n",
    "#deposit(amount) 입금\n",
    "#__str__ : 현재 예금주 명 , 잔액 출력\n",
    "\n",
    "class Account:\n",
    "    def __init__(self,accNo,name,balance=0):\n",
    "        self.accNo=accNo\n",
    "        self.name=name,\n",
    "        self.balance=balance\n",
    "    def withdraw(self,amount):\n",
    "        self.balance-=amount\n",
    "    def deposit(self,amount):\n",
    "        self.balance+=amount\n",
    "    \n",
    "    def __str__(self):\n",
    "        return \"예금주:{} 남은 잔액:{}\".format(self.name,self.balance)\n",
    "    \n",
    "\n",
    "\n",
    "\n",
    "\n",
    "\n"
   ]
  },
  {
   "cell_type": "code",
   "execution_count": 182,
   "metadata": {},
   "outputs": [],
   "source": [
    "acc1=Account(1,\"서영호\",100000)\n",
    "acc2=Account(2,\"성춘향\",200000)"
   ]
  },
  {
   "cell_type": "code",
   "execution_count": 178,
   "metadata": {},
   "outputs": [],
   "source": [
    "acc.deposit(100)"
   ]
  },
  {
   "cell_type": "code",
   "execution_count": 180,
   "metadata": {},
   "outputs": [
    {
     "name": "stdout",
     "output_type": "stream",
     "text": [
      "예금주:('서영호',) 남은 잔액:100\n"
     ]
    }
   ],
   "source": [
    "print(acc.__str__())"
   ]
  },
  {
   "cell_type": "code",
   "execution_count": 189,
   "metadata": {},
   "outputs": [
    {
     "name": "stdout",
     "output_type": "stream",
     "text": [
      "예금주:('서영호',) 남은 잔액:400000\n",
      "예금주:('성춘향',) 남은 잔액:160000\n"
     ]
    }
   ],
   "source": [
    "acc1.deposit(50000)\n",
    "print(acc1)\n",
    "\n",
    "acc2.withdraw(20000)\n",
    "print(acc2)\n"
   ]
  },
  {
   "cell_type": "code",
   "execution_count": null,
   "metadata": {},
   "outputs": [],
   "source": []
  },
  {
   "cell_type": "code",
   "execution_count": null,
   "metadata": {},
   "outputs": [],
   "source": []
  },
  {
   "cell_type": "code",
   "execution_count": 190,
   "metadata": {},
   "outputs": [],
   "source": [
    "#Audio 클래스\n",
    "# 생성자(power,volume)\n",
    "# switch(on_off) : on_off 값을 넘겨받아 power 인스턴스 변수 값 변경\n",
    "# setVolume(vol) : vol 값을 넘겨받아 volume 값 변경\n",
    "# tune() :power 값이 true 라면 \"La La La ... \" 라는 문자열 출력\n",
    "#                    false 라면 \"turn it on\" 이라는 문자열 출력\n",
    "\n",
    "\n",
    "#객체 생성 후 테스트\n",
    "\n",
    "class Audio:\n",
    "    def __init__(self,power=False,volume=0):\n",
    "        self.power=power\n",
    "        self.volume=volume\n",
    "    def switch(self,on_off):\n",
    "        self.power=on_off\n",
    "    def setVolume(self,vol):\n",
    "        self.volume=vol\n",
    "    def turn(self):\n",
    "        if(self.power==True):\n",
    "            print(\"La La La ...\")\n",
    "        else:\n",
    "            print(\"turn it on now\")"
   ]
  },
  {
   "cell_type": "code",
   "execution_count": 191,
   "metadata": {},
   "outputs": [],
   "source": [
    "audi1=Audio()"
   ]
  },
  {
   "cell_type": "code",
   "execution_count": 196,
   "metadata": {},
   "outputs": [
    {
     "name": "stdout",
     "output_type": "stream",
     "text": [
      "La La La ...\n"
     ]
    }
   ],
   "source": [
    "audi1.turn()\n",
    "audi1.setVolume(12)"
   ]
  },
  {
   "cell_type": "code",
   "execution_count": 193,
   "metadata": {},
   "outputs": [],
   "source": [
    "audi1.switch(True)"
   ]
  },
  {
   "cell_type": "code",
   "execution_count": 194,
   "metadata": {},
   "outputs": [
    {
     "name": "stdout",
     "output_type": "stream",
     "text": [
      "La La La ...\n"
     ]
    }
   ],
   "source": [
    "audi1.turn()"
   ]
  },
  {
   "cell_type": "code",
   "execution_count": 197,
   "metadata": {},
   "outputs": [
    {
     "name": "stdout",
     "output_type": "stream",
     "text": [
      "<h1>hahaha<h1>\n"
     ]
    }
   ],
   "source": [
    "print(\"<h1>hahaha<h1>\")"
   ]
  },
  {
   "cell_type": "code",
   "execution_count": null,
   "metadata": {},
   "outputs": [],
   "source": []
  }
 ],
 "metadata": {
  "kernelspec": {
   "display_name": "Python 3",
   "language": "python",
   "name": "python3"
  },
  "language_info": {
   "codemirror_mode": {
    "name": "ipython",
    "version": 3
   },
   "file_extension": ".py",
   "mimetype": "text/x-python",
   "name": "python",
   "nbconvert_exporter": "python",
   "pygments_lexer": "ipython3",
   "version": "3.8.5"
  }
 },
 "nbformat": 4,
 "nbformat_minor": 4
}
