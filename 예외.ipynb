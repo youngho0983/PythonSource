{
 "cells": [
  {
   "cell_type": "code",
   "execution_count": 1,
   "metadata": {},
   "outputs": [
    {
     "ename": "SyntaxError",
     "evalue": "EOL while scanning string literal (<ipython-input-1-7603e0c1265b>, line 1)",
     "output_type": "error",
     "traceback": [
      "\u001b[1;36m  File \u001b[1;32m\"<ipython-input-1-7603e0c1265b>\"\u001b[1;36m, line \u001b[1;32m1\u001b[0m\n\u001b[1;33m    print(\"hell)\u001b[0m\n\u001b[1;37m                ^\u001b[0m\n\u001b[1;31mSyntaxError\u001b[0m\u001b[1;31m:\u001b[0m EOL while scanning string literal\n"
     ]
    }
   ],
   "source": [
    "print(\"hell)  #SyntaxError 문법에러"
   ]
  },
  {
   "cell_type": "code",
   "execution_count": 2,
   "metadata": {},
   "outputs": [
    {
     "ename": "NameError",
     "evalue": "name 'c' is not defined",
     "output_type": "error",
     "traceback": [
      "\u001b[1;31m---------------------------------------------------------------------------\u001b[0m",
      "\u001b[1;31mNameError\u001b[0m                                 Traceback (most recent call last)",
      "\u001b[1;32m<ipython-input-2-fe70406e82fa>\u001b[0m in \u001b[0;36m<module>\u001b[1;34m\u001b[0m\n\u001b[0;32m      1\u001b[0m \u001b[0ma\u001b[0m\u001b[1;33m,\u001b[0m\u001b[0mb\u001b[0m\u001b[1;33m=\u001b[0m\u001b[1;36m10\u001b[0m\u001b[1;33m,\u001b[0m\u001b[1;36m15\u001b[0m\u001b[1;33m\u001b[0m\u001b[1;33m\u001b[0m\u001b[0m\n\u001b[1;32m----> 2\u001b[1;33m \u001b[0mprint\u001b[0m\u001b[1;33m(\u001b[0m\u001b[0mc\u001b[0m\u001b[1;33m)\u001b[0m\u001b[1;33m\u001b[0m\u001b[1;33m\u001b[0m\u001b[0m\n\u001b[0m",
      "\u001b[1;31mNameError\u001b[0m: name 'c' is not defined"
     ]
    }
   ],
   "source": [
    "a,b=10,15\n",
    "print(c)   #NameError : 참조 변수 없음"
   ]
  },
  {
   "cell_type": "code",
   "execution_count": 3,
   "metadata": {},
   "outputs": [
    {
     "ename": "IndexError",
     "evalue": "list index out of range",
     "output_type": "error",
     "traceback": [
      "\u001b[1;31m---------------------------------------------------------------------------\u001b[0m",
      "\u001b[1;31mIndexError\u001b[0m                                Traceback (most recent call last)",
      "\u001b[1;32m<ipython-input-3-ff0692f8bb87>\u001b[0m in \u001b[0;36m<module>\u001b[1;34m\u001b[0m\n\u001b[0;32m      1\u001b[0m \u001b[0mx\u001b[0m\u001b[1;33m=\u001b[0m\u001b[1;33m[\u001b[0m\u001b[1;36m10\u001b[0m\u001b[1;33m,\u001b[0m\u001b[1;36m20\u001b[0m\u001b[1;33m,\u001b[0m\u001b[1;36m30\u001b[0m\u001b[1;33m]\u001b[0m\u001b[1;33m\u001b[0m\u001b[1;33m\u001b[0m\u001b[0m\n\u001b[1;32m----> 2\u001b[1;33m \u001b[0mprint\u001b[0m\u001b[1;33m(\u001b[0m\u001b[0mx\u001b[0m\u001b[1;33m[\u001b[0m\u001b[1;36m3\u001b[0m\u001b[1;33m]\u001b[0m\u001b[1;33m)\u001b[0m\u001b[1;33m\u001b[0m\u001b[1;33m\u001b[0m\u001b[0m\n\u001b[0m",
      "\u001b[1;31mIndexError\u001b[0m: list index out of range"
     ]
    }
   ],
   "source": [
    "x=[10,20,30]\n",
    "print(x[3])   #IndexError "
   ]
  },
  {
   "cell_type": "code",
   "execution_count": 5,
   "metadata": {},
   "outputs": [
    {
     "ename": "KeyError",
     "evalue": "'hobby'",
     "output_type": "error",
     "traceback": [
      "\u001b[1;31m---------------------------------------------------------------------------\u001b[0m",
      "\u001b[1;31mKeyError\u001b[0m                                  Traceback (most recent call last)",
      "\u001b[1;32m<ipython-input-5-edfe284c8b71>\u001b[0m in \u001b[0;36m<module>\u001b[1;34m\u001b[0m\n\u001b[0;32m      1\u001b[0m \u001b[0mdict1\u001b[0m\u001b[1;33m=\u001b[0m\u001b[1;33m{\u001b[0m\u001b[1;34m\"name\"\u001b[0m\u001b[1;33m:\u001b[0m\u001b[1;34m\"kim\"\u001b[0m\u001b[1;33m,\u001b[0m\u001b[1;34m\"age\"\u001b[0m\u001b[1;33m:\u001b[0m\u001b[1;36m13\u001b[0m\u001b[1;33m,\u001b[0m\u001b[1;34m\"city\"\u001b[0m\u001b[1;33m:\u001b[0m\u001b[1;34m\"seoul\"\u001b[0m\u001b[1;33m}\u001b[0m\u001b[1;33m\u001b[0m\u001b[1;33m\u001b[0m\u001b[0m\n\u001b[1;32m----> 2\u001b[1;33m \u001b[0mprint\u001b[0m\u001b[1;33m(\u001b[0m\u001b[0mdict1\u001b[0m\u001b[1;33m[\u001b[0m\u001b[1;34m'hobby'\u001b[0m\u001b[1;33m]\u001b[0m\u001b[1;33m)\u001b[0m\u001b[1;33m\u001b[0m\u001b[1;33m\u001b[0m\u001b[0m\n\u001b[0m",
      "\u001b[1;31mKeyError\u001b[0m: 'hobby'"
     ]
    }
   ],
   "source": [
    "dict1={\"name\":\"kim\",\"age\":13,\"city\":\"seoul\"}\n",
    "print(dict1['hobby'])  #key 에러 키가 없음 dict1.get(\"hobby\") :key에러를 예방\n"
   ]
  },
  {
   "cell_type": "code",
   "execution_count": 6,
   "metadata": {},
   "outputs": [
    {
     "name": "stdout",
     "output_type": "stream",
     "text": [
      "Not Found it!\n"
     ]
    }
   ],
   "source": [
    "#try ~except : try(오류 발생 코드) except(예외가 발생할 때 실행할 코드)\n",
    "name=[\"kim\",\"park\",\"lee\"]\n",
    "\n",
    "try:\n",
    "    x=name.index(\"Let\")\n",
    "    print(\"{} Fount it! in name {} \".format(z,x+1))\n",
    "except:\n",
    "    print(\"Not Found it!\")"
   ]
  },
  {
   "cell_type": "code",
   "execution_count": 16,
   "metadata": {},
   "outputs": [
    {
     "name": "stdout",
     "output_type": "stream",
     "text": [
      "정수입력 >>14c\n",
      "잘 입력해주세요\n"
     ]
    }
   ],
   "source": [
    "try:\n",
    "    number_input = int(input(\"정수입력 >>\"))\n",
    "    print(\"원의 반지름 :\",number_input)\n",
    "    print(\"원의 둘레   :\",2*3.14*number_input)\n",
    "    print(\"원의 넓이   :\",3.14*number_input*number_input)\n",
    "except:\n",
    "    print(\"잘 입력해주세요\")"
   ]
  },
  {
   "cell_type": "code",
   "execution_count": 21,
   "metadata": {},
   "outputs": [
    {
     "name": "stdout",
     "output_type": "stream",
     "text": [
      "not found it!\n"
     ]
    }
   ],
   "source": [
    "# try~ except : try(오류 발생 코드) except 오류 코드명:\n",
    "\n",
    "name=[\"kim\",\"park\",\"lee\"]\n",
    "try:\n",
    "    x=name.index(\"let\")\n",
    "    print(\"{} Fount it! in name {} \".format(z,x+1))\n",
    "except ValueError:\n",
    "    print(\"not found it!\")"
   ]
  },
  {
   "cell_type": "code",
   "execution_count": 22,
   "metadata": {},
   "outputs": [
    {
     "name": "stdout",
     "output_type": "stream",
     "text": [
      "찾으려는 key 가 없습니다.\n"
     ]
    }
   ],
   "source": [
    "dict1 ={\"name\":\"kim\",\"age\":13,\"city\":\"seoul\"}\n",
    "try:\n",
    "    print(dict1[\"hobby\"])\n",
    "except KeyError:\n",
    "    print(\"찾으려는 key 가 없습니다.\")"
   ]
  },
  {
   "cell_type": "code",
   "execution_count": 30,
   "metadata": {},
   "outputs": [
    {
     "name": "stdout",
     "output_type": "stream",
     "text": [
      "kim Fount it in name 1\n",
      "OK\n"
     ]
    }
   ],
   "source": [
    "# try ~except ~else(에러가 발생이 안되는 경우 )\n",
    "\n",
    "try:\n",
    "    z=\"kim\"\n",
    "    x=name.index(z)\n",
    "    print(\"{} Fount it in name {}\".format(z,x+1))\n",
    "except ValueError:\n",
    "    print(\"Not Found it\")\n",
    "else :\n",
    "    print(\"OK\")"
   ]
  },
  {
   "cell_type": "code",
   "execution_count": 32,
   "metadata": {},
   "outputs": [
    {
     "name": "stdout",
     "output_type": "stream",
     "text": [
      "정수입력 >>13cm\n",
      "잘 입력해주세요\n"
     ]
    }
   ],
   "source": [
    "try:\n",
    "    number_input = int(input(\"정수입력 >>\"))  # ValueError\n",
    "except:\n",
    "    print(\"잘 입력해주세요\")\n",
    "else:\n",
    "    print(\"원의 반지름 :\",number_input)\n",
    "    print(\"원의 둘레   :\",2*3.14*number_input)\n",
    "    print(\"원의 넓이   :\",3.14*number_input*number_input)\n"
   ]
  },
  {
   "cell_type": "code",
   "execution_count": 34,
   "metadata": {},
   "outputs": [
    {
     "name": "stdout",
     "output_type": "stream",
     "text": [
      "찾으려는 키가 없어요\n"
     ]
    }
   ],
   "source": [
    "try:\n",
    "    print(dict['hobby'])\n",
    "except Exception:\n",
    "    print(\"찾으려는 키가 없어요\")"
   ]
  },
  {
   "cell_type": "code",
   "execution_count": 36,
   "metadata": {},
   "outputs": [
    {
     "name": "stdout",
     "output_type": "stream",
     "text": [
      "Not Found it\n",
      "finally\n"
     ]
    }
   ],
   "source": [
    "\n",
    "try:\n",
    "    z=\"kimc\"\n",
    "    x=name.index(z)\n",
    "    print(\"{} Fount it in name {}\".format(z,x+1))\n",
    "except ValueError:\n",
    "    print(\"Not Found it\")\n",
    "else :\n",
    "    print(\"OK\")\n",
    "finally:\n",
    "    print(\"finally\")"
   ]
  },
  {
   "cell_type": "code",
   "execution_count": null,
   "metadata": {},
   "outputs": [],
   "source": []
  }
 ],
 "metadata": {
  "kernelspec": {
   "display_name": "Python 3",
   "language": "python",
   "name": "python3"
  },
  "language_info": {
   "codemirror_mode": {
    "name": "ipython",
    "version": 3
   },
   "file_extension": ".py",
   "mimetype": "text/x-python",
   "name": "python",
   "nbconvert_exporter": "python",
   "pygments_lexer": "ipython3",
   "version": "3.8.5"
  }
 },
 "nbformat": 4,
 "nbformat_minor": 4
}
