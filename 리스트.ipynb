{
 "cells": [
  {
   "cell_type": "code",
   "execution_count": 5,
   "metadata": {},
   "outputs": [
    {
     "name": "stdout",
     "output_type": "stream",
     "text": [
      "[]\n",
      "['a', 'b', 'c']\n",
      "['a', 'b', 'c', 1, 2]\n",
      "[1, 2, 3, 4, 5.5, 6, 7]\n",
      "[1, 2, ['life', 13, 'short']]\n",
      "13\n"
     ]
    }
   ],
   "source": [
    "#리스트 생성\n",
    "\n",
    "list1=[]\n",
    "list2=[\"a\",\"b\",\"c\"]\n",
    "list3=[\"a\",\"b\",\"c\",1,2]\n",
    "list4=[1,2,3,4,5.5,6,7]\n",
    "list5=[1,2,['life',13,'short']]\n",
    "print(list1)\n",
    "print(list2)\n",
    "print(list3)\n",
    "print(list4)\n",
    "print(list5)\n",
    "print(list5[2][1])"
   ]
  },
  {
   "cell_type": "code",
   "execution_count": 6,
   "metadata": {},
   "outputs": [
    {
     "name": "stdout",
     "output_type": "stream",
     "text": [
      "[]\n",
      "['a', 'b', 'c']\n",
      "['a', 'b', 'c', 1, 2]\n",
      "[1, 2, 3, 4, 5.5, 6, 7]\n"
     ]
    }
   ],
   "source": [
    "# 리스트 사용\n",
    "\n",
    "print(list1)\n",
    "print(list2)\n",
    "print(list3)\n",
    "print(list4)"
   ]
  },
  {
   "cell_type": "code",
   "execution_count": 9,
   "metadata": {},
   "outputs": [
    {
     "name": "stdout",
     "output_type": "stream",
     "text": [
      "list2 c\n"
     ]
    }
   ],
   "source": [
    "print(\"list2\",list2[2])"
   ]
  },
  {
   "cell_type": "code",
   "execution_count": 10,
   "metadata": {},
   "outputs": [
    {
     "name": "stdout",
     "output_type": "stream",
     "text": [
      "is\n"
     ]
    }
   ],
   "source": [
    "list6=[1,2,['a','b',['life','is']]]\n",
    "print(list6[2][2][1])"
   ]
  },
  {
   "cell_type": "code",
   "execution_count": 13,
   "metadata": {},
   "outputs": [
    {
     "name": "stdout",
     "output_type": "stream",
     "text": [
      "[1, 2, 3, 4, 5, 6, 'a', 'b', 'c']\n",
      "6\n"
     ]
    }
   ],
   "source": [
    "a=[1,2,3]\n",
    "b=[4,5,6]\n",
    "c=['a','b','c']\n",
    "print(a+b+c)\n",
    "print(a[0]+b[1])"
   ]
  },
  {
   "cell_type": "code",
   "execution_count": 18,
   "metadata": {},
   "outputs": [
    {
     "name": "stdout",
     "output_type": "stream",
     "text": [
      "[1, 2, 3]\n",
      "[1, 7, 3]\n"
     ]
    }
   ],
   "source": [
    "print(a)\n",
    "a[1]=7\n",
    "print(a)"
   ]
  },
  {
   "cell_type": "code",
   "execution_count": 19,
   "metadata": {},
   "outputs": [
    {
     "ename": "TypeError",
     "evalue": "'type' object does not support item assignment",
     "output_type": "error",
     "traceback": [
      "\u001b[1;31m---------------------------------------------------------------------------\u001b[0m",
      "\u001b[1;31mTypeError\u001b[0m                                 Traceback (most recent call last)",
      "\u001b[1;32m<ipython-input-19-d3869307a667>\u001b[0m in \u001b[0;36m<module>\u001b[1;34m\u001b[0m\n\u001b[0;32m      1\u001b[0m \u001b[0mstr1\u001b[0m\u001b[1;33m=\u001b[0m\u001b[1;34m\"abcd\"\u001b[0m\u001b[1;33m\u001b[0m\u001b[1;33m\u001b[0m\u001b[0m\n\u001b[1;32m----> 2\u001b[1;33m \u001b[0mstr\u001b[0m\u001b[1;33m[\u001b[0m\u001b[1;36m1\u001b[0m\u001b[1;33m]\u001b[0m\u001b[1;33m=\u001b[0m\u001b[1;34m\"e\"\u001b[0m\u001b[1;33m\u001b[0m\u001b[1;33m\u001b[0m\u001b[0m\n\u001b[0m",
      "\u001b[1;31mTypeError\u001b[0m: 'type' object does not support item assignment"
     ]
    }
   ],
   "source": [
    "str1=\"abcd\"\n",
    "str[1]=\"e\" #문자열은 불변"
   ]
  },
  {
   "cell_type": "code",
   "execution_count": 20,
   "metadata": {},
   "outputs": [
    {
     "name": "stdout",
     "output_type": "stream",
     "text": [
      "[4, 5, 6]\n"
     ]
    }
   ],
   "source": [
    "print(b)"
   ]
  },
  {
   "cell_type": "code",
   "execution_count": 30,
   "metadata": {},
   "outputs": [
    {
     "name": "stdout",
     "output_type": "stream",
     "text": [
      "[4, 1, 2, 3, 4, 5, 6]\n"
     ]
    }
   ],
   "source": [
    "b=[4,5,6]\n",
    "b[1:2]=[1,2,3,4,5]\n",
    "print(b)"
   ]
  },
  {
   "cell_type": "code",
   "execution_count": 31,
   "metadata": {},
   "outputs": [
    {
     "name": "stdout",
     "output_type": "stream",
     "text": [
      "[1, 7, 3]\n",
      "[1, 3]\n"
     ]
    }
   ],
   "source": [
    "print(a)\n",
    "del a[1]\n",
    "print(a)"
   ]
  },
  {
   "cell_type": "code",
   "execution_count": 32,
   "metadata": {},
   "outputs": [
    {
     "name": "stdout",
     "output_type": "stream",
     "text": [
      "[4, 1, 2, 3, 4, 5, 6]\n",
      "[4, 3, 4, 5, 6]\n"
     ]
    }
   ],
   "source": [
    "print(b)\n",
    "b[1:3]=[]\n",
    "print(b)"
   ]
  },
  {
   "cell_type": "code",
   "execution_count": 2,
   "metadata": {},
   "outputs": [
    {
     "name": "stdout",
     "output_type": "stream",
     "text": [
      "273\n",
      "103\n",
      "5\n",
      "32\n",
      "65\n",
      "9\n",
      "72\n",
      "800\n",
      "99\n"
     ]
    }
   ],
   "source": [
    "numbers=[273,103,5,32,65,9,72,800,99]\n",
    "for num in numbers:\n",
    "    print(num)"
   ]
  },
  {
   "cell_type": "code",
   "execution_count": 4,
   "metadata": {},
   "outputs": [
    {
     "name": "stdout",
     "output_type": "stream",
     "text": [
      "273은 홀수입니다\n",
      "103은 홀수입니다\n",
      "5은 홀수입니다\n",
      "32은 짝수입니다\n",
      "65은 홀수입니다\n",
      "9은 홀수입니다\n",
      "72은 짝수입니다\n",
      "800은 짝수입니다\n",
      "99은 홀수입니다\n"
     ]
    }
   ],
   "source": [
    "# numbers 안의 숫자가 홀수 짝수인지 판별해서 출력하기\n",
    "\n",
    "for num in numbers:\n",
    "    if(num%2==0):\n",
    "        print(str(num)+\"은 짝수입니다\")\n",
    "    else:\n",
    "        print(str(num)+\"은 홀수입니다\")"
   ]
  },
  {
   "cell_type": "code",
   "execution_count": 8,
   "metadata": {},
   "outputs": [
    {
     "name": "stdout",
     "output_type": "stream",
     "text": [
      "273의 길이는3\n",
      "103의 길이는3\n",
      "5의 길이는1\n",
      "32의 길이는2\n",
      "65의 길이는2\n",
      "9의 길이는1\n",
      "72의 길이는2\n",
      "800의 길이는3\n",
      "99의 길이는2\n"
     ]
    }
   ],
   "source": [
    "for num in numbers:\n",
    "    print(str(num)+\"의 길이는\"+str(len(str(num))))"
   ]
  },
  {
   "cell_type": "code",
   "execution_count": 16,
   "metadata": {},
   "outputs": [
    {
     "name": "stdout",
     "output_type": "stream",
     "text": [
      "<class 'list'>\n",
      "[1, 2, 3]\n",
      "[4, 5, 6]\n",
      "[7, 8, 9]\n"
     ]
    }
   ],
   "source": [
    "list_of_list=[[1,2,3],[4,5,6],[7,8,9]]\n",
    "\n",
    "print(type(list_of_list))\n",
    "for i in range(0,len(list_of_list)):\n",
    "    if(type(list_of_list[i])==\"class 'list'\"):\n",
    "        for j in len(list_of_list[i]):\n",
    "            print(list_of_list[i][j])\n",
    "    else:\n",
    "        print(list_of_list[i])"
   ]
  },
  {
   "cell_type": "code",
   "execution_count": 17,
   "metadata": {},
   "outputs": [
    {
     "name": "stdout",
     "output_type": "stream",
     "text": [
      "[1, 2, 3, 4]\n"
     ]
    }
   ],
   "source": [
    "#appeendd():\n",
    "list1=[1,2,3]\n",
    "list1.append(4)\n",
    "print(list1)"
   ]
  },
  {
   "cell_type": "code",
   "execution_count": 18,
   "metadata": {},
   "outputs": [
    {
     "name": "stdout",
     "output_type": "stream",
     "text": [
      "[1, 2, 3, 4, [5, 6]]\n"
     ]
    }
   ],
   "source": [
    "list1.append([5,6])\n",
    "print(list1)"
   ]
  },
  {
   "cell_type": "code",
   "execution_count": 20,
   "metadata": {},
   "outputs": [],
   "source": [
    "# list1.appen(5,6,7) TypeError"
   ]
  },
  {
   "cell_type": "code",
   "execution_count": 23,
   "metadata": {},
   "outputs": [
    {
     "name": "stdout",
     "output_type": "stream",
     "text": [
      "[2, 4, 6, 8, 10, 12, 14, 16, 18, 20, 22, 24, 26, 28, 30, 32, 34, 36, 38, 40, 42, 44, 46, 48, 50, 52, 54, 56, 58, 60, 62, 64, 66, 68, 70, 72, 74, 76, 78, 80, 82, 84, 86, 88, 90, 92, 94, 96, 98, 100]\n"
     ]
    }
   ],
   "source": [
    "even=[]\n",
    "\n",
    "for i in range(1,101):\n",
    "    if(i%2==0):\n",
    "        even.append(i)\n",
    "print(even)"
   ]
  },
  {
   "cell_type": "code",
   "execution_count": 26,
   "metadata": {},
   "outputs": [
    {
     "name": "stdout",
     "output_type": "stream",
     "text": [
      "[25, 75, 15, 9, 6, 3, 36]\n",
      "[3, 6, 9, 15, 25, 36, 75]\n"
     ]
    }
   ],
   "source": [
    "list1=[25,75,15,9,6,3,36]\n",
    "print(list1)\n",
    "list1.sort()\n",
    "print(list1)"
   ]
  },
  {
   "cell_type": "code",
   "execution_count": 27,
   "metadata": {},
   "outputs": [
    {
     "name": "stdout",
     "output_type": "stream",
     "text": [
      "['a', 'c', 'b', 'v', 't']\n"
     ]
    }
   ],
   "source": [
    "list2=['a','c','b','v','t']\n",
    "print(list2)"
   ]
  },
  {
   "cell_type": "code",
   "execution_count": 28,
   "metadata": {},
   "outputs": [
    {
     "name": "stdout",
     "output_type": "stream",
     "text": [
      "['a', 'b', 'c', 't', 'v']\n"
     ]
    }
   ],
   "source": [
    "list2.sort()\n",
    "print(list2)"
   ]
  },
  {
   "cell_type": "code",
   "execution_count": 29,
   "metadata": {},
   "outputs": [
    {
     "name": "stdout",
     "output_type": "stream",
     "text": [
      "['a', 'A', 'b', 'B', 'c', 'C']\n",
      "['A', 'B', 'C', 'a', 'b', 'c']\n"
     ]
    }
   ],
   "source": [
    "list3=['a','A','b','B','c','C']\n",
    "print(list3)\n",
    "list3.sort()\n",
    "print(list3)"
   ]
  },
  {
   "cell_type": "code",
   "execution_count": 31,
   "metadata": {},
   "outputs": [
    {
     "name": "stdout",
     "output_type": "stream",
     "text": [
      "['ㄷ', 'ㄱ', 'ㅎ', 'ㅋ', 'ㄴ']\n",
      "['ㄱ', 'ㄴ', 'ㄷ', 'ㅋ', 'ㅎ']\n"
     ]
    }
   ],
   "source": [
    "list4=['ㄷ','ㄱ','ㅎ','ㅋ','ㄴ']\n",
    "print(list4)\n",
    "list4.sort()\n",
    "print(list4)"
   ]
  },
  {
   "cell_type": "code",
   "execution_count": 34,
   "metadata": {},
   "outputs": [
    {
     "name": "stdout",
     "output_type": "stream",
     "text": [
      "['abc', 'tail', 'bcd', 'animal', 'korea']\n",
      "['abc', 'animal', 'bcd', 'korea', 'tail']\n",
      "['tail', 'korea', 'bcd', 'animal', 'abc']\n"
     ]
    }
   ],
   "source": [
    "list5=[\"abc\",\"tail\",\"bcd\",\"animal\",\"korea\"]\n",
    "print(list5)\n",
    "list5.sort()\n",
    "print(list5)\n",
    "list5.sort(reverse=True)\n",
    "print(list5)"
   ]
  },
  {
   "cell_type": "code",
   "execution_count": 35,
   "metadata": {},
   "outputs": [
    {
     "name": "stdout",
     "output_type": "stream",
     "text": [
      "[12, 56, 13, 14, 15, 14]\n"
     ]
    }
   ],
   "source": [
    "#insert(): 특정 위치에 요소를 삽입\n",
    "list2=[12,13,14,15,14]\n",
    "list2.insert(1,56)\n",
    "print(list2)"
   ]
  },
  {
   "cell_type": "code",
   "execution_count": 42,
   "metadata": {},
   "outputs": [
    {
     "name": "stdout",
     "output_type": "stream",
     "text": [
      "[12, 13, 15, 14]\n"
     ]
    }
   ],
   "source": [
    "list5=[12,13,14,15,14]\n",
    "list5.remove(14)\n",
    "print(list5)"
   ]
  },
  {
   "cell_type": "code",
   "execution_count": 43,
   "metadata": {},
   "outputs": [
    {
     "name": "stdout",
     "output_type": "stream",
     "text": [
      "[12, 13, 15, 14]\n",
      "[12, 13, 15]\n",
      "[12, 15]\n"
     ]
    }
   ],
   "source": [
    "#pop()\n",
    "print(list5)\n",
    "list5.pop()\n",
    "print(list5)\n",
    "list5.pop(1)\n",
    "print(list5)"
   ]
  },
  {
   "cell_type": "code",
   "execution_count": 46,
   "metadata": {},
   "outputs": [
    {
     "name": "stdout",
     "output_type": "stream",
     "text": [
      "6\n"
     ]
    }
   ],
   "source": [
    "#count(): 리스트 요소(갯수) 세기\n",
    "list5=[1,2,3,3,3,3,3,3,4,5,6,7]\n",
    "print(list5.count(3))"
   ]
  },
  {
   "cell_type": "code",
   "execution_count": 47,
   "metadata": {},
   "outputs": [
    {
     "name": "stdout",
     "output_type": "stream",
     "text": [
      "[1, 2, 3, 3, 3, 3, 3, 3, 4, 5, 6, 7, 16, 17, 18]\n"
     ]
    }
   ],
   "source": [
    "# extend : 리스트 확장(+ 와 같은 결과)\n",
    "\n",
    "list5.extend([16,17,18])\n",
    "print(list5)"
   ]
  },
  {
   "cell_type": "code",
   "execution_count": 48,
   "metadata": {},
   "outputs": [
    {
     "name": "stdout",
     "output_type": "stream",
     "text": [
      "[]\n"
     ]
    }
   ],
   "source": [
    "#clear()\n",
    "list5.clear()\n",
    "print(list5)"
   ]
  },
  {
   "cell_type": "code",
   "execution_count": 49,
   "metadata": {},
   "outputs": [
    {
     "name": "stdout",
     "output_type": "stream",
     "text": [
      "False\n"
     ]
    }
   ],
   "source": [
    "city=\"\"\n",
    "if city:\n",
    "    print(\"True\")\n",
    "else:\n",
    "    print(\"False\")"
   ]
  },
  {
   "cell_type": "code",
   "execution_count": 50,
   "metadata": {},
   "outputs": [
    {
     "name": "stdout",
     "output_type": "stream",
     "text": [
      "False\n"
     ]
    }
   ],
   "source": [
    "list1=[]\n",
    "if list1:\n",
    "    print(\"True\")\n",
    "else:\n",
    "    print(\"False\")"
   ]
  },
  {
   "cell_type": "code",
   "execution_count": 51,
   "metadata": {},
   "outputs": [
    {
     "name": "stdout",
     "output_type": "stream",
     "text": [
      "딸기 포함\n"
     ]
    }
   ],
   "source": [
    "fruit=[\"사과\",\"딸기\",\"배\",\"수박\"]\n",
    "if \"딸기\" in fruit:\n",
    "    print(\"딸기 포함\")\n",
    "else:\n",
    "    print(\"딸기 미 포함\")"
   ]
  },
  {
   "cell_type": "code",
   "execution_count": 1,
   "metadata": {},
   "outputs": [
    {
     "name": "stdout",
     "output_type": "stream",
     "text": [
      "(0, 23)\n",
      "(1, 12)\n",
      "(2, 36)\n",
      "(3, 53)\n",
      "(4, 19)\n"
     ]
    }
   ],
   "source": [
    "arr=[23,12,36,53,19]\n",
    "for i in enumerate(arr):\n",
    "    print(i)"
   ]
  },
  {
   "cell_type": "code",
   "execution_count": 2,
   "metadata": {},
   "outputs": [
    {
     "name": "stdout",
     "output_type": "stream",
     "text": [
      "0: 23\n",
      "1: 12\n",
      "2: 36\n",
      "3: 53\n",
      "4: 19\n"
     ]
    }
   ],
   "source": [
    "for idx,val in enumerate(arr):\n",
    "    print(\"%d: %d\" % (idx,val))"
   ]
  },
  {
   "cell_type": "code",
   "execution_count": 4,
   "metadata": {},
   "outputs": [
    {
     "name": "stdout",
     "output_type": "stream",
     "text": [
      "1:23\n",
      "2:12\n",
      "3:36\n",
      "4:53\n",
      "5:19\n"
     ]
    }
   ],
   "source": [
    "for idx,val in enumerate(arr,start=1):\n",
    "    print(\"%d:%d\"%(idx,val))"
   ]
  },
  {
   "cell_type": "code",
   "execution_count": null,
   "metadata": {},
   "outputs": [],
   "source": []
  },
  {
   "cell_type": "code",
   "execution_count": 5,
   "metadata": {},
   "outputs": [],
   "source": [
    "# a학급에 총 10명의 학생이 있다. 이 학생들의 중간고사 점수는 다음과 같다\n",
    "# 70.60.55.75.95.90.80.85.100.66\n",
    "#a 학급의 점수를 리스트로 생성하고 총 합과 평균을 구하시오."
   ]
  },
  {
   "cell_type": "code",
   "execution_count": 48,
   "metadata": {},
   "outputs": [
    {
     "name": "stdout",
     "output_type": "stream",
     "text": [
      "776\n",
      "77.6\n",
      "a 학급의 총 합 776 과 평균  77.6\n",
      "10\n"
     ]
    }
   ],
   "source": [
    "arr=[70,60,55,75,95,90,80,85,100,66]\n",
    "result=0\n",
    "people=0;\n",
    "for idx,num in enumerate(arr,start=1):\n",
    "    result+=num\n",
    "    people=idx\n",
    "print(result)\n",
    "result2=result/people\n",
    "print(result2)\n",
    "print(\"a 학급의 총 합 {} 과 평균  {}\".format(result,(result2)))\n"
   ]
  },
  {
   "cell_type": "code",
   "execution_count": 26,
   "metadata": {},
   "outputs": [
    {
     "name": "stdout",
     "output_type": "stream",
     "text": [
      "a 학급의 총 합 776 과 평균 :77.6\n"
     ]
    }
   ],
   "source": [
    "#sum : 합계\n",
    "\n",
    "print(\"a 학급의 총 합 {} 과 평균 :{}\".format(sum(arr),sum(arr)/10))"
   ]
  },
  {
   "cell_type": "markdown",
   "metadata": {},
   "source": [
    "insertNum=0;\n",
    "list1=[];\n",
    "car='A';\n",
    "while(insertNum!=3):\n",
    "    insertNum=input(\"[1]자동차 넣기 | [2]자동차 빼기 |[3] 종료\")\n",
    "    if(insertNum==1):\n",
    "        if(size(list1)<5):\n",
    "            print(1)\n",
    "            list1.append(car)\n",
    "            print(list1)\n",
    "        else:\n",
    "            print(2)\n",
    "            print(\"앙돼요 5대에요\")\n",
    "            print(list1)\n",
    "    elif(insertNum==2):\n",
    "        print(3)\n",
    "        list1.pop()\n",
    "        print(list1)\n",
    "    elif(insertNum==3):\n",
    "        print(4)\n",
    "        break;\n",
    "        "
   ]
  },
  {
   "cell_type": "code",
   "execution_count": 60,
   "metadata": {},
   "outputs": [
    {
     "name": "stdout",
     "output_type": "stream",
     "text": [
      "[1]자동차 넣기 | [2]자동차 빼기 |[3] 종료1\n",
      "['A']\n",
      "[1]자동차 넣기 | [2]자동차 빼기 |[3] 종료1\n",
      "['A', 'B']\n",
      "[1]자동차 넣기 | [2]자동차 빼기 |[3] 종료1\n",
      "['A', 'B', 'C']\n",
      "[1]자동차 넣기 | [2]자동차 빼기 |[3] 종료1\n",
      "['A', 'B', 'C', 'D']\n",
      "[1]자동차 넣기 | [2]자동차 빼기 |[3] 종료1\n",
      "['A', 'B', 'C', 'D', 'E']\n",
      "[1]자동차 넣기 | [2]자동차 빼기 |[3] 종료1\n",
      "앙돼요 5대에요\n",
      "['A', 'B', 'C', 'D', 'E']\n",
      "[1]자동차 넣기 | [2]자동차 빼기 |[3] 종료2\n",
      "['A', 'B', 'C', 'D']\n",
      "[1]자동차 넣기 | [2]자동차 빼기 |[3] 종료2\n",
      "['A', 'B', 'C']\n",
      "[1]자동차 넣기 | [2]자동차 빼기 |[3] 종료22\n",
      "[1]자동차 넣기 | [2]자동차 빼기 |[3] 종료2\n",
      "['A', 'B']\n",
      "[1]자동차 넣기 | [2]자동차 빼기 |[3] 종료2\n",
      "['A']\n",
      "[1]자동차 넣기 | [2]자동차 빼기 |[3] 종료2\n",
      "[]\n",
      "[1]자동차 넣기 | [2]자동차 빼기 |[3] 종료2\n",
      "양되요\n",
      "[1]자동차 넣기 | [2]자동차 빼기 |[3] 종료1\n",
      "['F']\n",
      "[1]자동차 넣기 | [2]자동차 빼기 |[3] 종료1\n",
      "['F', 'G']\n",
      "[1]자동차 넣기 | [2]자동차 빼기 |[3] 종료1\n",
      "['F', 'G', 'H']\n",
      "[1]자동차 넣기 | [2]자동차 빼기 |[3] 종료1\n",
      "['F', 'G', 'H', 'I']\n",
      "[1]자동차 넣기 | [2]자동차 빼기 |[3] 종료1\n",
      "['F', 'G', 'H', 'I', 'J']\n",
      "[1]자동차 넣기 | [2]자동차 빼기 |[3] 종료1\n",
      "앙돼요 5대에요\n",
      "['F', 'G', 'H', 'I', 'J']\n",
      "[1]자동차 넣기 | [2]자동차 빼기 |[3] 종료1\n",
      "앙돼요 5대에요\n",
      "['F', 'G', 'H', 'I', 'J']\n",
      "[1]자동차 넣기 | [2]자동차 빼기 |[3] 종료1\n",
      "앙돼요 5대에요\n",
      "['F', 'G', 'H', 'I', 'J']\n",
      "[1]자동차 넣기 | [2]자동차 빼기 |[3] 종료1\n",
      "앙돼요 5대에요\n",
      "['F', 'G', 'H', 'I', 'J']\n",
      "[1]자동차 넣기 | [2]자동차 빼기 |[3] 종료2\n",
      "['F', 'G', 'H', 'I']\n",
      "[1]자동차 넣기 | [2]자동차 빼기 |[3] 종료2\n",
      "['F', 'G', 'H']\n",
      "[1]자동차 넣기 | [2]자동차 빼기 |[3] 종료2\n",
      "['F', 'G']\n",
      "[1]자동차 넣기 | [2]자동차 빼기 |[3] 종료2\n",
      "['F']\n",
      "[1]자동차 넣기 | [2]자동차 빼기 |[3] 종료2\n",
      "[]\n",
      "[1]자동차 넣기 | [2]자동차 빼기 |[3] 종료2\n",
      "양되요\n",
      "[1]자동차 넣기 | [2]자동차 빼기 |[3] 종료\n"
     ]
    },
    {
     "ename": "ValueError",
     "evalue": "invalid literal for int() with base 10: ''",
     "output_type": "error",
     "traceback": [
      "\u001b[1;31m---------------------------------------------------------------------------\u001b[0m",
      "\u001b[1;31mValueError\u001b[0m                                Traceback (most recent call last)",
      "\u001b[1;32m<ipython-input-60-2b436eb6c1dc>\u001b[0m in \u001b[0;36m<module>\u001b[1;34m\u001b[0m\n\u001b[0;32m      3\u001b[0m \u001b[0mcar\u001b[0m\u001b[1;33m=\u001b[0m\u001b[1;34m'A'\u001b[0m\u001b[1;33m\u001b[0m\u001b[1;33m\u001b[0m\u001b[0m\n\u001b[0;32m      4\u001b[0m \u001b[1;32mwhile\u001b[0m\u001b[1;33m(\u001b[0m\u001b[0minsertNum\u001b[0m\u001b[1;33m!=\u001b[0m\u001b[1;36m3\u001b[0m\u001b[1;33m)\u001b[0m\u001b[1;33m:\u001b[0m\u001b[1;33m\u001b[0m\u001b[1;33m\u001b[0m\u001b[0m\n\u001b[1;32m----> 5\u001b[1;33m     \u001b[0minsertNum\u001b[0m\u001b[1;33m=\u001b[0m\u001b[0mint\u001b[0m\u001b[1;33m(\u001b[0m\u001b[0minput\u001b[0m\u001b[1;33m(\u001b[0m\u001b[1;34m\"[1]자동차 넣기 | [2]자동차 빼기 |[3] 종료\"\u001b[0m\u001b[1;33m)\u001b[0m\u001b[1;33m)\u001b[0m\u001b[1;33m\u001b[0m\u001b[1;33m\u001b[0m\u001b[0m\n\u001b[0m\u001b[0;32m      6\u001b[0m     \u001b[1;32mif\u001b[0m\u001b[1;33m(\u001b[0m\u001b[0minsertNum\u001b[0m\u001b[1;33m==\u001b[0m\u001b[1;36m1\u001b[0m\u001b[1;33m)\u001b[0m\u001b[1;33m:\u001b[0m\u001b[1;33m\u001b[0m\u001b[1;33m\u001b[0m\u001b[0m\n\u001b[0;32m      7\u001b[0m         \u001b[1;32mif\u001b[0m\u001b[1;33m(\u001b[0m\u001b[0mlen\u001b[0m\u001b[1;33m(\u001b[0m\u001b[0mlist1\u001b[0m\u001b[1;33m)\u001b[0m\u001b[1;33m<\u001b[0m\u001b[1;36m5\u001b[0m\u001b[1;33m)\u001b[0m\u001b[1;33m:\u001b[0m\u001b[1;33m\u001b[0m\u001b[1;33m\u001b[0m\u001b[0m\n",
      "\u001b[1;31mValueError\u001b[0m: invalid literal for int() with base 10: ''"
     ]
    }
   ],
   "source": [
    "insertNum=0 \n",
    "list1=[]\n",
    "car='A'\n",
    "while(insertNum!=3): \n",
    "    insertNum=int(input(\"[1]자동차 넣기 | [2]자동차 빼기 |[3] 종료\")) \n",
    "    if(insertNum==1): \n",
    "        if(len(list1)<5): \n",
    "           \n",
    "            list1.append( car ) \n",
    "            car=   chr(ord(car)+1)\n",
    "            print(list1) \n",
    "            \n",
    "            \n",
    "        else: \n",
    "            \n",
    "            print(\"앙돼요 5대에요\") \n",
    "            print(list1) \n",
    "    elif(insertNum==2):\n",
    "        if(len(list1)>0):\n",
    "           \n",
    "            list1.pop() \n",
    "            print(list1)\n",
    "        else:\n",
    "            print(\"양되요\")\n",
    "    elif(insertNum==3): \n",
    "           \n",
    "            break;"
   ]
  },
  {
   "cell_type": "markdown",
   "metadata": {},
   "source": [
    "## ord('a') ==> 아스키"
   ]
  },
  {
   "cell_type": "code",
   "execution_count": 58,
   "metadata": {},
   "outputs": [
    {
     "data": {
      "text/plain": [
       "65"
      ]
     },
     "execution_count": 58,
     "metadata": {},
     "output_type": "execute_result"
    }
   ],
   "source": [
    "ord('A')"
   ]
  },
  {
   "cell_type": "code",
   "execution_count": 59,
   "metadata": {},
   "outputs": [
    {
     "data": {
      "text/plain": [
       "'A'"
      ]
     },
     "execution_count": 59,
     "metadata": {},
     "output_type": "execute_result"
    }
   ],
   "source": [
    "chr(65)"
   ]
  },
  {
   "cell_type": "code",
   "execution_count": 66,
   "metadata": {},
   "outputs": [
    {
     "name": "stdout",
     "output_type": "stream",
     "text": [
      "5\n",
      "5\n"
     ]
    },
    {
     "data": {
      "text/plain": [
       "'Abcde'"
      ]
     },
     "execution_count": 66,
     "metadata": {},
     "output_type": "execute_result"
    }
   ],
   "source": [
    "# 1. 아래 문자열의 길이를 구하기\n",
    "\n",
    "q1=\"안녕하세요\"\n",
    "print(len(q1))\n",
    "q2=\"abcde\"\n",
    "print(len(q2))\n",
    "q2.capitalize()\n"
   ]
  },
  {
   "cell_type": "code",
   "execution_count": 67,
   "metadata": {},
   "outputs": [
    {
     "name": "stdout",
     "output_type": "stream",
     "text": [
      "****************************************************************************************************\n"
     ]
    }
   ],
   "source": [
    "# 화면단에 * 기호 100개 표시하기\n",
    "print(\"*\"*100)"
   ]
  },
  {
   "cell_type": "code",
   "execution_count": 80,
   "metadata": {},
   "outputs": [
    {
     "name": "stdout",
     "output_type": "stream",
     "text": [
      "30\n",
      "30\n",
      "30.0\n"
     ]
    }
   ],
   "source": [
    "#문자열 \"30\" 을 각각 정수 실수형으로 변환하기\n",
    "str1=\"30\"\n",
    "num1=int(str1)\n",
    "fnum1=num1/1.0\n",
    "print(str1)\n",
    "print(num1)\n",
    "print(fnum1)\n",
    "#fnum1=num1/1.0\n",
    "\n",
    "#print(num1)\n",
    "#print(fnum1)"
   ]
  },
  {
   "cell_type": "code",
   "execution_count": 81,
   "metadata": {},
   "outputs": [
    {
     "name": "stdout",
     "output_type": "stream",
     "text": [
      "01058505388\n"
     ]
    }
   ],
   "source": [
    "# 5 다음 문자열에서 \"-\" 제거후 출력\n",
    "temp=\"010-5850-5388\"\n",
    "print(temp.replace(\"-\",\"\"))\n"
   ]
  },
  {
   "cell_type": "code",
   "execution_count": 82,
   "metadata": {},
   "outputs": [
    {
     "name": "stdout",
     "output_type": "stream",
     "text": [
      "www.daum.net\n"
     ]
    }
   ],
   "source": [
    "# 더움 뮨저욜애소 \"https://\" 부분 제거 후 출력\n",
    "url=\"http://www.daum.net\"\n",
    "print(url.replace(\"http://\",\"\"))"
   ]
  },
  {
   "cell_type": "code",
   "execution_count": 83,
   "metadata": {},
   "outputs": [
    {
     "name": "stdout",
     "output_type": "stream",
     "text": [
      "['banana', 'orange']\n"
     ]
    }
   ],
   "source": [
    "# 다음 리스트에서 \"APPLE\" 항목 삭제 한 후 출력\n",
    "list1=[\"banana\",\"apple\",\"orange\"]\n",
    "list1.remove(\"apple\")\n",
    "print(list1)"
   ]
  },
  {
   "cell_type": "code",
   "execution_count": 89,
   "metadata": {},
   "outputs": [
    {
     "name": "stdout",
     "output_type": "stream",
     "text": [
      "anaconda\n",
      "----------------------------\n",
      "study\n",
      "python\n",
      "anaconda\n"
     ]
    }
   ],
   "source": [
    "# 다음 리스트에서 똑같은 글자 5글자 이상의 단어만 출력\n",
    "list2=[\"nice\",\"study\",\"python\",\"anaconda\",\"!\"]\n",
    "for i in list2:\n",
    "    for j in i:\n",
    "        if(i.count(j)>=3):\n",
    "            print(i)\n",
    "            break\n",
    "print(\"----------------------------\")\n",
    "for i in list2:\n",
    "    if(len(i)>=5):\n",
    "        print(i)"
   ]
  },
  {
   "cell_type": "code",
   "execution_count": 115,
   "metadata": {},
   "outputs": [
    {
     "name": "stdout",
     "output_type": "stream",
     "text": [
      "b\n",
      "c\n",
      "e\n",
      "h\n"
     ]
    }
   ],
   "source": [
    "#다음 리스트에서 항목중 소문자만 출력\n",
    "list3=[\"A\",\"b\",\"c\",\"D\",\"e\",\"F\",\"G\",\"h\"]\n",
    "\n",
    "for i in list3:\n",
    "    if(ord(i)>=95):\n",
    "        print(i)"
   ]
  },
  {
   "cell_type": "code",
   "execution_count": 111,
   "metadata": {},
   "outputs": [
    {
     "name": "stdout",
     "output_type": "stream",
     "text": [
      "[\n",
      "B\n",
      "C\n",
      "^\n",
      "E\n",
      "`\n",
      "a\n",
      "H\n"
     ]
    }
   ],
   "source": [
    "# 다음 항목 중 소문자를 대문자로 대문자를 소문자로 출력\n",
    "for char in list3:\n",
    "    if(ord(char)>95):\n",
    "        \n",
    "        print( chr(ord(char)-32) )\n",
    "    else:\n",
    "        print(chr(ord(char)+26))"
   ]
  },
  {
   "cell_type": "code",
   "execution_count": 104,
   "metadata": {},
   "outputs": [
    {
     "name": "stdout",
     "output_type": "stream",
     "text": [
      "yrrebwartS\n"
     ]
    }
   ],
   "source": [
    "# 거꾸로 출력 \"Strawberry\"\n",
    "temp=\"Strawberry\"\n",
    "\n",
    "print(temp[::-1])"
   ]
  },
  {
   "cell_type": "code",
   "execution_count": 113,
   "metadata": {},
   "outputs": [
    {
     "name": "stdout",
     "output_type": "stream",
     "text": [
      "01077779999\n"
     ]
    }
   ],
   "source": [
    "tel=\"010-7777-9999\"\n",
    "\n",
    "print(tel[:3]+tel[4:8]+tel[9:13])"
   ]
  },
  {
   "cell_type": "code",
   "execution_count": 119,
   "metadata": {},
   "outputs": [
    {
     "name": "stdout",
     "output_type": "stream",
     "text": [
      "['A', 'b', 'c', 'D', 'e', 'F', 'G', 'h']\n",
      "bceh"
     ]
    }
   ],
   "source": [
    "print(list3)\n",
    "for ch in list3:\n",
    "    if ch.islower():\n",
    "        print(ch,end=\"\")"
   ]
  },
  {
   "cell_type": "code",
   "execution_count": 122,
   "metadata": {},
   "outputs": [
    {
     "name": "stdout",
     "output_type": "stream",
     "text": [
      "a\n",
      "B\n",
      "C\n",
      "d\n",
      "E\n",
      "f\n",
      "g\n",
      "H\n"
     ]
    }
   ],
   "source": [
    "for ch in list3:\n",
    "    if ch.islower():\n",
    "        print(ch.upper())\n",
    "    if ch.isupper():\n",
    "        print(ch.lower())"
   ]
  },
  {
   "cell_type": "code",
   "execution_count": 125,
   "metadata": {},
   "outputs": [
    {
     "name": "stdout",
     "output_type": "stream",
     "text": [
      "HELLOwORLD\n"
     ]
    }
   ],
   "source": [
    "string =\"helloWorld\"\n",
    "print(string.swapcase())\n"
   ]
  },
  {
   "cell_type": "code",
   "execution_count": 126,
   "metadata": {},
   "outputs": [],
   "source": [
    "#리스트 내포 표기"
   ]
  },
  {
   "cell_type": "code",
   "execution_count": 127,
   "metadata": {},
   "outputs": [
    {
     "name": "stdout",
     "output_type": "stream",
     "text": [
      "[2, 4, 6, 8]\n"
     ]
    }
   ],
   "source": [
    "print([x*2 for x in [1,2,3,4]])"
   ]
  },
  {
   "cell_type": "code",
   "execution_count": 128,
   "metadata": {},
   "outputs": [
    {
     "name": "stdout",
     "output_type": "stream",
     "text": [
      "[0, 1, 4, 9, 16]\n"
     ]
    }
   ],
   "source": [
    "print([x*x for x in range(5)])"
   ]
  },
  {
   "cell_type": "code",
   "execution_count": 129,
   "metadata": {},
   "outputs": [
    {
     "name": "stdout",
     "output_type": "stream",
     "text": [
      "[[1, 2, 3], [2, 3, 4], [3, 4, 5]]\n"
     ]
    }
   ],
   "source": [
    "#[1,2,3] => [[1,2,3],\n",
    "#            [2.3.4]\n",
    "#            [3,4,5]]\n",
    "\n",
    "\n",
    "print( [[x,x+1,x+2]for x in [1,2,3] ])"
   ]
  },
  {
   "cell_type": "code",
   "execution_count": 138,
   "metadata": {},
   "outputs": [
    {
     "name": "stdout",
     "output_type": "stream",
     "text": [
      "[[0, 0, 0], [0, 0, 0], [0, 0, 0], [0, 0, 0]]\n"
     ]
    }
   ],
   "source": [
    "#[[0.0.0],[0,0,0],[0,0,0],[0,0,0]]\n",
    "arr=[];\n",
    "for i in range(4):\n",
    "    arr.append([])\n",
    "    for j in range(3):\n",
    "        arr[i].append(0);\n",
    "    \n",
    "print( arr    )\n"
   ]
  },
  {
   "cell_type": "code",
   "execution_count": 142,
   "metadata": {},
   "outputs": [
    {
     "name": "stdout",
     "output_type": "stream",
     "text": [
      "[[0, 0, 0], [0, 0, 0], [0, 0, 0], [0, 0, 0]]\n"
     ]
    }
   ],
   "source": [
    "print([[0 for x in range(3)] for y in range(4)])"
   ]
  },
  {
   "cell_type": "code",
   "execution_count": 148,
   "metadata": {},
   "outputs": [
    {
     "name": "stdout",
     "output_type": "stream",
     "text": [
      "[[0, 1, 2], [3, 4, 5], [6, 7, 8], [9, 10, 11]]\n"
     ]
    }
   ],
   "source": [
    "#[[0,1,2],[3,4,5],[6,7,8],[9,10,11]]\n",
    "print([[x for x in range(3*j , 3*j+3)] for j in range(4)])"
   ]
  },
  {
   "cell_type": "code",
   "execution_count": 156,
   "metadata": {},
   "outputs": [
    {
     "name": "stdout",
     "output_type": "stream",
     "text": [
      "[[0, 1, 2], [3, 4, 5], [6, 7, 8], [9, 10, 11]]\n"
     ]
    }
   ],
   "source": [
    "arr=[]\n",
    "for i in range(4):\n",
    "            arr.append([])\n",
    "            for j in range(3):\n",
    "                arr[i].append(i*3+j)  \n",
    "print(arr)"
   ]
  },
  {
   "cell_type": "code",
   "execution_count": null,
   "metadata": {},
   "outputs": [],
   "source": []
  },
  {
   "cell_type": "code",
   "execution_count": null,
   "metadata": {},
   "outputs": [],
   "source": []
  },
  {
   "cell_type": "code",
   "execution_count": null,
   "metadata": {},
   "outputs": [],
   "source": []
  },
  {
   "cell_type": "code",
   "execution_count": null,
   "metadata": {},
   "outputs": [],
   "source": []
  }
 ],
 "metadata": {
  "kernelspec": {
   "display_name": "Python 3",
   "language": "python",
   "name": "python3"
  },
  "language_info": {
   "codemirror_mode": {
    "name": "ipython",
    "version": 3
   },
   "file_extension": ".py",
   "mimetype": "text/x-python",
   "name": "python",
   "nbconvert_exporter": "python",
   "pygments_lexer": "ipython3",
   "version": "3.8.5"
  }
 },
 "nbformat": 4,
 "nbformat_minor": 4
}
