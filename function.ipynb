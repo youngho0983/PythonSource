{
 "cells": [
  {
   "cell_type": "code",
   "execution_count": 2,
   "metadata": {},
   "outputs": [
    {
     "name": "stdout",
     "output_type": "stream",
     "text": [
      "hello!\n"
     ]
    }
   ],
   "source": [
    "# 함수 정의\n",
    "def hello():\n",
    "    print(\"hello!\")\n",
    "\n",
    "# 함수 호출\n",
    "hello()"
   ]
  },
  {
   "cell_type": "code",
   "execution_count": 3,
   "metadata": {},
   "outputs": [
    {
     "name": "stdout",
     "output_type": "stream",
     "text": [
      "hello!!!\n"
     ]
    }
   ],
   "source": [
    "def hello():\n",
    "    return \"hello!!!\"\n",
    "print(hello())"
   ]
  },
  {
   "cell_type": "code",
   "execution_count": 4,
   "metadata": {},
   "outputs": [
    {
     "name": "stdout",
     "output_type": "stream",
     "text": [
      "7\n"
     ]
    }
   ],
   "source": [
    "def add(a,b):\n",
    "    return a+b\n",
    "print(add(3,4))"
   ]
  },
  {
   "cell_type": "code",
   "execution_count": 7,
   "metadata": {},
   "outputs": [
    {
     "name": "stdout",
     "output_type": "stream",
     "text": [
      "안녕하세요\n",
      "안녕하세요\n",
      "안녕\n",
      "안녕\n",
      "안녕\n",
      "안녕\n",
      "안녕\n"
     ]
    }
   ],
   "source": [
    "def print_n_times(value, n=2):  # n=2   --> 초기값 선정(입력 안했을 시 초기값)\n",
    "    for i in range(n):\n",
    "        print(value)\n",
    "        \n",
    "print_n_times(\"안녕하세요\")\n",
    "print_n_times(\"안녕\",5)\n"
   ]
  },
  {
   "cell_type": "code",
   "execution_count": 8,
   "metadata": {},
   "outputs": [
    {
     "name": "stdout",
     "output_type": "stream",
     "text": [
      "({'dessert': 'macaroon', 'wine': 'merlot'},)\n",
      "('35', '24', '15', '14')\n",
      "(['A', 'B', 'C', 'D'],)\n",
      "('E', 'F', 'G')\n"
     ]
    }
   ],
   "source": [
    "#가변 파라미터 : *args\n",
    "#가변 파라미터는 뒤에는 일반 매개 변수 사용 불가\n",
    "# 가변 파라미터는 하나만 사용 가능\n",
    "\n",
    "def add_many(*args):\n",
    "    print(args)\n",
    "\n",
    "add_many({\"dessert\":\"macaroon\",\"wine\":\"merlot\"})\n",
    "add_many(\"35\",\"24\",\"15\",\"14\")\n",
    "add_many([\"A\",\"B\",\"C\",\"D\"])\n",
    "add_many(\"E\",\"F\",\"G\")"
   ]
  },
  {
   "cell_type": "code",
   "execution_count": 10,
   "metadata": {},
   "outputs": [
    {
     "name": "stdout",
     "output_type": "stream",
     "text": [
      "1040\n",
      "118\n",
      "0\n"
     ]
    }
   ],
   "source": [
    "def add_many2(*args):\n",
    "    result=0\n",
    "    for i in args:\n",
    "        result +=i\n",
    "    return result\n",
    "\n",
    "print(add_many2(15,63,869,45,36,9,3))\n",
    "print(add_many2(27,35,56))\n",
    "print(add_many2())"
   ]
  },
  {
   "cell_type": "code",
   "execution_count": 12,
   "metadata": {},
   "outputs": [
    {
     "name": "stdout",
     "output_type": "stream",
     "text": [
      "덧셈 :  15\n",
      "곱셈 :  120\n"
     ]
    }
   ],
   "source": [
    "def sum_mul(choice,*args):\n",
    "    if choice==\"mul\":\n",
    "        result=1\n",
    "        for i in args:\n",
    "            result *=i\n",
    "    elif choice ==\"add\":\n",
    "        result =0\n",
    "        for i in args:\n",
    "            result+=i\n",
    "    return result\n",
    "\n",
    "print(\"덧셈 : \",sum_mul(\"add\",1,2,3,4,5))\n",
    "print(\"곱셈 : \",sum_mul(\"mul\",1,2,3,4,5))"
   ]
  },
  {
   "cell_type": "code",
   "execution_count": 13,
   "metadata": {},
   "outputs": [
    {
     "name": "stdout",
     "output_type": "stream",
     "text": [
      "{'name': 'park'}\n",
      "name\n",
      "name park\n",
      "\n",
      "{'name': 'park', 'name2': 'kim', 'active': 'test'}\n",
      "name\n",
      "name2\n",
      "active\n",
      "name park\n",
      "name2 kim\n",
      "active test\n",
      "\n",
      "{'name': 'kim', 'age': 10, 'title': 'title'}\n",
      "name\n",
      "age\n",
      "title\n",
      "name kim\n",
      "age 10\n",
      "title title\n",
      "\n",
      "{'name': 'hong', 'name2': 'tark'}\n",
      "name\n",
      "name2\n",
      "name hong\n",
      "name2 tark\n",
      "\n"
     ]
    }
   ],
   "source": [
    "## kwargs : 파라미터를 딕셔너리 형태로 처리\n",
    "\n",
    "def args_func1(**kwargs):\n",
    "    print(kwargs)\n",
    "    for k in kwargs.keys():\n",
    "        print(k)\n",
    "        \n",
    "    for k,v in kwargs.items():\n",
    "        print(k,v)\n",
    "    print()\n",
    "\n",
    "args_func1(name=\"park\")\n",
    "args_func1(name=\"park\",name2=\"kim\",active=\"test\")\n",
    "args_func1(name=\"kim\",age=10,title=\"title\")\n",
    "args_func1(name=\"hong\",name2=\"tark\")\n",
    "\n",
    "\n"
   ]
  },
  {
   "cell_type": "code",
   "execution_count": null,
   "metadata": {},
   "outputs": [],
   "source": []
  },
  {
   "cell_type": "code",
   "execution_count": 20,
   "metadata": {},
   "outputs": [
    {
     "name": "stdout",
     "output_type": "stream",
     "text": [
      "10 20 15 () {}\n",
      "10 20 30 () {}\n",
      "10 20 kim ('choi',) {}\n",
      "10 20 30 ('kim', 'choi') {'age': 25, 'name': 'park'}\n"
     ]
    }
   ],
   "source": [
    "def example_mul(arg1,arg2,arg3=15,*args,**kwargs):\n",
    "    print(arg1,arg2,arg3,args,kwargs)\n",
    "\n",
    "example_mul(10,20)\n",
    "example_mul(10,20,30)\n",
    "example_mul(10,20,\"kim\",\"choi\")\n",
    "example_mul(10,20,30,\"kim\",\"choi\",age=25,name=\"park\")\n"
   ]
  },
  {
   "cell_type": "code",
   "execution_count": null,
   "metadata": {},
   "outputs": [],
   "source": []
  },
  {
   "cell_type": "code",
   "execution_count": 21,
   "metadata": {},
   "outputs": [
    {
     "name": "stdout",
     "output_type": "stream",
     "text": [
      "(7, 12)\n"
     ]
    }
   ],
   "source": [
    "# 다중 리턴\n",
    "\n",
    "def sum_and_mul(a,b):\n",
    "    return a+b,a*b\n",
    "\n",
    "print(sum_and_mul(3,4))"
   ]
  },
  {
   "cell_type": "code",
   "execution_count": 24,
   "metadata": {},
   "outputs": [
    {
     "name": "stdout",
     "output_type": "stream",
     "text": [
      "(10000, 20000, 30000)\n"
     ]
    }
   ],
   "source": [
    "def func_mul(x):\n",
    "    y1 = x*100\n",
    "    y2 = x*200\n",
    "    y3 = x*300\n",
    "    return y1,y2,y3\n",
    "tup1 =func_mul(100)\n",
    "print(tup1)"
   ]
  },
  {
   "cell_type": "code",
   "execution_count": 25,
   "metadata": {},
   "outputs": [
    {
     "name": "stdout",
     "output_type": "stream",
     "text": [
      "9\n",
      "20\n"
     ]
    }
   ],
   "source": [
    "add_result,mul_result=sum_and_mul(4,5)\n",
    "print(add_result)\n",
    "print(mul_result)"
   ]
  },
  {
   "cell_type": "code",
   "execution_count": 26,
   "metadata": {},
   "outputs": [
    {
     "name": "stdout",
     "output_type": "stream",
     "text": [
      "3\n"
     ]
    }
   ],
   "source": [
    "var=(3,4,5)\n",
    "num1,num2,num3=var\n",
    "print(num1)"
   ]
  },
  {
   "cell_type": "code",
   "execution_count": 27,
   "metadata": {},
   "outputs": [
    {
     "name": "stdout",
     "output_type": "stream",
     "text": [
      "[10000, 20000, 30000]\n"
     ]
    }
   ],
   "source": [
    "def func_mul(x):\n",
    "    y1 = x*100\n",
    "    y2 = x*200\n",
    "    y3 = x*300\n",
    "    return [y1,y2,y3]\n",
    "print(func_mul(100))"
   ]
  },
  {
   "cell_type": "code",
   "execution_count": null,
   "metadata": {},
   "outputs": [],
   "source": []
  },
  {
   "cell_type": "code",
   "execution_count": 28,
   "metadata": {},
   "outputs": [
    {
     "name": "stdout",
     "output_type": "stream",
     "text": [
      "나의 별명은 무야호 입니다.\n"
     ]
    }
   ],
   "source": [
    "def say_nick(nick):\n",
    "    if nick == \"바보\":\n",
    "        return\n",
    "    print(\"나의 별명은 {} 입니다.\".format(nick))\n",
    "\n",
    "say_nick(\"바보\")\n",
    "say_nick(\"무야호\")"
   ]
  },
  {
   "cell_type": "code",
   "execution_count": null,
   "metadata": {},
   "outputs": [],
   "source": []
  },
  {
   "cell_type": "code",
   "execution_count": null,
   "metadata": {},
   "outputs": [],
   "source": []
  },
  {
   "cell_type": "code",
   "execution_count": null,
   "metadata": {},
   "outputs": [],
   "source": []
  },
  {
   "cell_type": "code",
   "execution_count": 32,
   "metadata": {},
   "outputs": [
    {
     "name": "stdout",
     "output_type": "stream",
     "text": [
      "-10\n"
     ]
    }
   ],
   "source": [
    "#두 개의 인자와 연산자를 받아 사칙연산을 수행하는 fourRules 함수를 작성하시오\n",
    "def fourRules(num1,num2,menu):\n",
    "    if(menu==\"+\"):\n",
    "        return num1+num2\n",
    "    elif(menu==\"-\"):\n",
    "        return num1-num2\n",
    "    elif(menu==\"*\"):\n",
    "        return num1*num2\n",
    "    elif(menu==\"/\"):\n",
    "        return num1/num2\n",
    "    elif(menu==\"%\"):\n",
    "        return num1%num2\n",
    "\n",
    "print(fourRules(10,20,\"-\"))"
   ]
  },
  {
   "cell_type": "code",
   "execution_count": 33,
   "metadata": {},
   "outputs": [
    {
     "name": "stdout",
     "output_type": "stream",
     "text": [
      "숫자 120\n",
      "숫자 210\n",
      "연산자 입력/\n",
      "2.0\n"
     ]
    }
   ],
   "source": [
    "#위에 작성한 함수를 호출할 때 사용자로부터 인자와 연산자를 받아서 처리하기\n",
    "print(fourRules(int( input(\"숫자 1\")),int( input(\"숫자 2\")),input(\"연산자 입력\")))"
   ]
  },
  {
   "cell_type": "code",
   "execution_count": 63,
   "metadata": {},
   "outputs": [
    {
     "name": "stdout",
     "output_type": "stream",
     "text": [
      "[2, 3, 5, 7, 11, 13, 17, 19, 23, 29, 31, 37, 41, 43, 47, 53, 59, 61, 67, 71, 73, 79, 83, 89, 97]\n"
     ]
    }
   ],
   "source": [
    "#1~100 사이의 소수를 구하여 리턴하는 함수를 작성하시오\n",
    "def resosu():\n",
    "    \n",
    "    result =[]\n",
    "    result.append(2)\n",
    "    for i in range(2,101):\n",
    "        for j in range(2,i):\n",
    "            if i%j==0:\n",
    "                break\n",
    "            if j==i-1:\n",
    "                result.append(i)\n",
    "    return result    \n",
    "print(resosu())"
   ]
  },
  {
   "cell_type": "code",
   "execution_count": null,
   "metadata": {},
   "outputs": [],
   "source": []
  },
  {
   "cell_type": "code",
   "execution_count": null,
   "metadata": {},
   "outputs": [],
   "source": []
  },
  {
   "cell_type": "code",
   "execution_count": null,
   "metadata": {},
   "outputs": [],
   "source": []
  },
  {
   "cell_type": "code",
   "execution_count": null,
   "metadata": {},
   "outputs": [],
   "source": []
  },
  {
   "cell_type": "code",
   "execution_count": null,
   "metadata": {},
   "outputs": [],
   "source": []
  },
  {
   "cell_type": "code",
   "execution_count": null,
   "metadata": {},
   "outputs": [],
   "source": []
  }
 ],
 "metadata": {
  "kernelspec": {
   "display_name": "Python 3",
   "language": "python",
   "name": "python3"
  },
  "language_info": {
   "codemirror_mode": {
    "name": "ipython",
    "version": 3
   },
   "file_extension": ".py",
   "mimetype": "text/x-python",
   "name": "python",
   "nbconvert_exporter": "python",
   "pygments_lexer": "ipython3",
   "version": "3.8.5"
  }
 },
 "nbformat": 4,
 "nbformat_minor": 4
}
